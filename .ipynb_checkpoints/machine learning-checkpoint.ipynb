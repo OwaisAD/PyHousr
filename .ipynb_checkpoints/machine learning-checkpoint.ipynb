{
 "cells": [
  {
   "cell_type": "markdown",
   "id": "3078c23a",
   "metadata": {},
   "source": [
    "# Step 1 - Import Data"
   ]
  },
  {
   "cell_type": "code",
   "execution_count": 97,
   "id": "5baea468",
   "metadata": {},
   "outputs": [
    {
     "name": "stdout",
     "output_type": "stream",
     "text": [
      "False\n"
     ]
    },
    {
     "data": {
      "text/html": [
       "<div>\n",
       "<style scoped>\n",
       "    .dataframe tbody tr th:only-of-type {\n",
       "        vertical-align: middle;\n",
       "    }\n",
       "\n",
       "    .dataframe tbody tr th {\n",
       "        vertical-align: top;\n",
       "    }\n",
       "\n",
       "    .dataframe thead th {\n",
       "        text-align: right;\n",
       "    }\n",
       "</style>\n",
       "<table border=\"1\" class=\"dataframe\">\n",
       "  <thead>\n",
       "    <tr style=\"text-align: right;\">\n",
       "      <th></th>\n",
       "      <th>Address</th>\n",
       "      <th>X</th>\n",
       "      <th>Y</th>\n",
       "      <th>Price</th>\n",
       "      <th>Type</th>\n",
       "      <th>Size</th>\n",
       "      <th>Squaremeter price</th>\n",
       "      <th>Energy class</th>\n",
       "      <th>Url</th>\n",
       "    </tr>\n",
       "  </thead>\n",
       "  <tbody>\n",
       "    <tr>\n",
       "      <th>0</th>\n",
       "      <td>Nørgaardsvej 27, 2. th</td>\n",
       "      <td>55.770647</td>\n",
       "      <td>12.508193</td>\n",
       "      <td>1595000</td>\n",
       "      <td>Ejerlejlighed</td>\n",
       "      <td>44</td>\n",
       "      <td>36250</td>\n",
       "      <td>E</td>\n",
       "      <td>https://www.dingeo.dk/adresse/2800-kongens%20l...</td>\n",
       "    </tr>\n",
       "    <tr>\n",
       "      <th>1</th>\n",
       "      <td>Gammelmosevej 218</td>\n",
       "      <td>55.756103</td>\n",
       "      <td>12.480264</td>\n",
       "      <td>4495000</td>\n",
       "      <td>Rækkehus</td>\n",
       "      <td>113</td>\n",
       "      <td>39778</td>\n",
       "      <td>C</td>\n",
       "      <td>https://www.dingeo.dk/adresse/2800-kongens%20l...</td>\n",
       "    </tr>\n",
       "    <tr>\n",
       "      <th>2</th>\n",
       "      <td>Danmarksvej 43A</td>\n",
       "      <td>55.794678</td>\n",
       "      <td>12.517936</td>\n",
       "      <td>7695000</td>\n",
       "      <td>Villa</td>\n",
       "      <td>182</td>\n",
       "      <td>42280</td>\n",
       "      <td>D</td>\n",
       "      <td>https://www.dingeo.dk/adresse/2800-kongens%20l...</td>\n",
       "    </tr>\n",
       "    <tr>\n",
       "      <th>3</th>\n",
       "      <td>Stengårdsvænge 103</td>\n",
       "      <td>55.759154</td>\n",
       "      <td>12.482144</td>\n",
       "      <td>5295000</td>\n",
       "      <td>Rækkehus</td>\n",
       "      <td>102</td>\n",
       "      <td>51911</td>\n",
       "      <td>C</td>\n",
       "      <td>https://www.dingeo.dk/adresse/2800-kongens%20l...</td>\n",
       "    </tr>\n",
       "    <tr>\n",
       "      <th>4</th>\n",
       "      <td>Buddingevej 110</td>\n",
       "      <td>55.758719</td>\n",
       "      <td>12.494712</td>\n",
       "      <td>8750000</td>\n",
       "      <td>Villa</td>\n",
       "      <td>188</td>\n",
       "      <td>46542</td>\n",
       "      <td>D</td>\n",
       "      <td>https://www.dingeo.dk/adresse/2800-kongens%20l...</td>\n",
       "    </tr>\n",
       "  </tbody>\n",
       "</table>\n",
       "</div>"
      ],
      "text/plain": [
       "                  Address          X          Y    Price           Type  Size   \n",
       "0  Nørgaardsvej 27, 2. th  55.770647  12.508193  1595000  Ejerlejlighed    44  \\\n",
       "1       Gammelmosevej 218  55.756103  12.480264  4495000       Rækkehus   113   \n",
       "2         Danmarksvej 43A  55.794678  12.517936  7695000          Villa   182   \n",
       "3      Stengårdsvænge 103  55.759154  12.482144  5295000       Rækkehus   102   \n",
       "4         Buddingevej 110  55.758719  12.494712  8750000          Villa   188   \n",
       "\n",
       "   Squaremeter price Energy class   \n",
       "0              36250            E  \\\n",
       "1              39778            C   \n",
       "2              42280            D   \n",
       "3              51911            C   \n",
       "4              46542            D   \n",
       "\n",
       "                                                 Url  \n",
       "0  https://www.dingeo.dk/adresse/2800-kongens%20l...  \n",
       "1  https://www.dingeo.dk/adresse/2800-kongens%20l...  \n",
       "2  https://www.dingeo.dk/adresse/2800-kongens%20l...  \n",
       "3  https://www.dingeo.dk/adresse/2800-kongens%20l...  \n",
       "4  https://www.dingeo.dk/adresse/2800-kongens%20l...  "
      ]
     },
     "execution_count": 97,
     "metadata": {},
     "output_type": "execute_result"
    }
   ],
   "source": [
    "import pandas as pd\n",
    "\n",
    "import pandas as pd\n",
    "\n",
    "cities = ['2800', '2820', '2830', '2840', '2850', '2900', '2920', '2930', '2942', '2950', '3000', '3460']\n",
    "dataframes = []  # List to store DataFrames for each city\n",
    "\n",
    "for city in cities:\n",
    "    filename = f'./data/house_data/house_data_{city}.csv'\n",
    "    df = pd.read_csv(filename)  # Read CSV file into DataFrame\n",
    "    dataframes.append(df)  # Append DataFrame to the list\n",
    "\n",
    "# Concatenate all DataFrames into a single DataFrame\n",
    "combined_df = pd.concat(dataframes, ignore_index=True)\n",
    "    \n",
    "combined_df.dropna(inplace=True)  # Drop any remaining missing values\n",
    "print(data.isnull().values.any())  # Check if there are any missing values\n",
    "\n",
    "combined_df[combined_df[\"Price\"] > 900].head(5)"
   ]
  },
  {
   "cell_type": "markdown",
   "id": "7fd4cfb1",
   "metadata": {},
   "source": [
    "# Step 2 - Data Processing"
   ]
  },
  {
   "cell_type": "code",
   "execution_count": 217,
   "id": "0fb3445c",
   "metadata": {},
   "outputs": [],
   "source": [
    "#combined_df = combined_df.dropna()\n",
    "#combined_df.describe()\n"
   ]
  },
  {
   "cell_type": "markdown",
   "id": "59f0ec04",
   "metadata": {},
   "source": [
    "# Step 3 - Feauture Selection\n",
    "Select the relevant features (variables) that you want to use for predicting the price. Exclude any columns that are not useful or not available during prediction.\n"
   ]
  },
  {
   "cell_type": "code",
   "execution_count": 98,
   "id": "9ea42d3a",
   "metadata": {},
   "outputs": [],
   "source": [
    "from sklearn.model_selection import train_test_split\n",
    "from sklearn.linear_model import LinearRegression\n",
    "from sklearn.tree import DecisionTreeClassifier\n",
    "from sklearn.compose import ColumnTransformer\n",
    "from sklearn.preprocessing import OneHotEncoder\n",
    "\n",
    "features = ['X', 'Y', \"Price\", \"Type\", 'Size', 'Energy class']\n",
    "target = \"Price\"\n",
    "\n",
    "X = combined_df[features]\n",
    "y = combined_df[target]"
   ]
  },
  {
   "cell_type": "markdown",
   "id": "d4e08c71",
   "metadata": {},
   "source": [
    "# Step 4 - Split the data\n",
    "Split the data into training and testing sets to evaluate the performance of your machine learning model. The training set will be used to train the model, and the testing set will be used to evaluate its performance."
   ]
  },
  {
   "cell_type": "code",
   "execution_count": 99,
   "id": "6242c233",
   "metadata": {},
   "outputs": [],
   "source": [
    "X_train, X_test, y_train, y_test = train_test_split(X_encoded, y, test_size=0.2, random_state=42)"
   ]
  },
  {
   "cell_type": "markdown",
   "id": "03d0175d",
   "metadata": {},
   "source": [
    "# Step 5 - Train a model\n",
    "Choose a suitable machine learning algorithm for your task, such as linear regression, decision tree, or random forest. Train the model on the training data."
   ]
  },
  {
   "cell_type": "code",
   "execution_count": 100,
   "id": "7ad32f73",
   "metadata": {},
   "outputs": [
    {
     "data": {
      "text/html": [
       "<style>#sk-container-id-9 {color: black;background-color: white;}#sk-container-id-9 pre{padding: 0;}#sk-container-id-9 div.sk-toggleable {background-color: white;}#sk-container-id-9 label.sk-toggleable__label {cursor: pointer;display: block;width: 100%;margin-bottom: 0;padding: 0.3em;box-sizing: border-box;text-align: center;}#sk-container-id-9 label.sk-toggleable__label-arrow:before {content: \"▸\";float: left;margin-right: 0.25em;color: #696969;}#sk-container-id-9 label.sk-toggleable__label-arrow:hover:before {color: black;}#sk-container-id-9 div.sk-estimator:hover label.sk-toggleable__label-arrow:before {color: black;}#sk-container-id-9 div.sk-toggleable__content {max-height: 0;max-width: 0;overflow: hidden;text-align: left;background-color: #f0f8ff;}#sk-container-id-9 div.sk-toggleable__content pre {margin: 0.2em;color: black;border-radius: 0.25em;background-color: #f0f8ff;}#sk-container-id-9 input.sk-toggleable__control:checked~div.sk-toggleable__content {max-height: 200px;max-width: 100%;overflow: auto;}#sk-container-id-9 input.sk-toggleable__control:checked~label.sk-toggleable__label-arrow:before {content: \"▾\";}#sk-container-id-9 div.sk-estimator input.sk-toggleable__control:checked~label.sk-toggleable__label {background-color: #d4ebff;}#sk-container-id-9 div.sk-label input.sk-toggleable__control:checked~label.sk-toggleable__label {background-color: #d4ebff;}#sk-container-id-9 input.sk-hidden--visually {border: 0;clip: rect(1px 1px 1px 1px);clip: rect(1px, 1px, 1px, 1px);height: 1px;margin: -1px;overflow: hidden;padding: 0;position: absolute;width: 1px;}#sk-container-id-9 div.sk-estimator {font-family: monospace;background-color: #f0f8ff;border: 1px dotted black;border-radius: 0.25em;box-sizing: border-box;margin-bottom: 0.5em;}#sk-container-id-9 div.sk-estimator:hover {background-color: #d4ebff;}#sk-container-id-9 div.sk-parallel-item::after {content: \"\";width: 100%;border-bottom: 1px solid gray;flex-grow: 1;}#sk-container-id-9 div.sk-label:hover label.sk-toggleable__label {background-color: #d4ebff;}#sk-container-id-9 div.sk-serial::before {content: \"\";position: absolute;border-left: 1px solid gray;box-sizing: border-box;top: 0;bottom: 0;left: 50%;z-index: 0;}#sk-container-id-9 div.sk-serial {display: flex;flex-direction: column;align-items: center;background-color: white;padding-right: 0.2em;padding-left: 0.2em;position: relative;}#sk-container-id-9 div.sk-item {position: relative;z-index: 1;}#sk-container-id-9 div.sk-parallel {display: flex;align-items: stretch;justify-content: center;background-color: white;position: relative;}#sk-container-id-9 div.sk-item::before, #sk-container-id-9 div.sk-parallel-item::before {content: \"\";position: absolute;border-left: 1px solid gray;box-sizing: border-box;top: 0;bottom: 0;left: 50%;z-index: -1;}#sk-container-id-9 div.sk-parallel-item {display: flex;flex-direction: column;z-index: 1;position: relative;background-color: white;}#sk-container-id-9 div.sk-parallel-item:first-child::after {align-self: flex-end;width: 50%;}#sk-container-id-9 div.sk-parallel-item:last-child::after {align-self: flex-start;width: 50%;}#sk-container-id-9 div.sk-parallel-item:only-child::after {width: 0;}#sk-container-id-9 div.sk-dashed-wrapped {border: 1px dashed gray;margin: 0 0.4em 0.5em 0.4em;box-sizing: border-box;padding-bottom: 0.4em;background-color: white;}#sk-container-id-9 div.sk-label label {font-family: monospace;font-weight: bold;display: inline-block;line-height: 1.2em;}#sk-container-id-9 div.sk-label-container {text-align: center;}#sk-container-id-9 div.sk-container {/* jupyter's `normalize.less` sets `[hidden] { display: none; }` but bootstrap.min.css set `[hidden] { display: none !important; }` so we also need the `!important` here to be able to override the default hidden behavior on the sphinx rendered scikit-learn.org. See: https://github.com/scikit-learn/scikit-learn/issues/21755 */display: inline-block !important;position: relative;}#sk-container-id-9 div.sk-text-repr-fallback {display: none;}</style><div id=\"sk-container-id-9\" class=\"sk-top-container\"><div class=\"sk-text-repr-fallback\"><pre>LinearRegression()</pre><b>In a Jupyter environment, please rerun this cell to show the HTML representation or trust the notebook. <br />On GitHub, the HTML representation is unable to render, please try loading this page with nbviewer.org.</b></div><div class=\"sk-container\" hidden><div class=\"sk-item\"><div class=\"sk-estimator sk-toggleable\"><input class=\"sk-toggleable__control sk-hidden--visually\" id=\"sk-estimator-id-9\" type=\"checkbox\" checked><label for=\"sk-estimator-id-9\" class=\"sk-toggleable__label sk-toggleable__label-arrow\">LinearRegression</label><div class=\"sk-toggleable__content\"><pre>LinearRegression()</pre></div></div></div></div></div>"
      ],
      "text/plain": [
       "LinearRegression()"
      ]
     },
     "execution_count": 100,
     "metadata": {},
     "output_type": "execute_result"
    }
   ],
   "source": [
    "model = LinearRegression()\n",
    "model.fit(X_train, y_train)"
   ]
  },
  {
   "cell_type": "markdown",
   "id": "62c8aac2",
   "metadata": {},
   "source": [
    "# Step 6 - Evaluate the model\n",
    "Evaluate the performance of your trained model using appropriate evaluation metrics, such as mean squared error (MSE), mean absolute error (MAE), or R-squared."
   ]
  },
  {
   "cell_type": "code",
   "execution_count": 101,
   "id": "a4f12194",
   "metadata": {},
   "outputs": [
    {
     "name": "stdout",
     "output_type": "stream",
     "text": [
      "Mean Squared Error: 5.42555660591112e-17\n"
     ]
    }
   ],
   "source": [
    "from sklearn.metrics import mean_squared_error\n",
    "\n",
    "y_pred = model.predict(X_test)\n",
    "mse = mean_squared_error(y_test, y_pred)\n",
    "print(\"Mean Squared Error:\", mse)"
   ]
  },
  {
   "cell_type": "markdown",
   "id": "67b7f39f",
   "metadata": {},
   "source": [
    "A mean squared error (MSE) value of 3.744599393294227e-16 suggests that the linear regression model is performing exceptionally well on the test set. The MSE measures the average squared difference between the predicted and actual values. In this case, the extremely small MSE indicates that the predicted values are very close to the actual values, almost negligible in terms of the squared difference.\n",
    "\n",
    "An MSE close to zero suggests that the model is fitting the data very well, capturing the underlying patterns and minimizing the prediction errors. However, it's important to note that such a low MSE could also indicate overfitting, where the model is too closely tailored to the training data and may not generalize well to unseen data.\n",
    "\n",
    "To gain a better understanding of the model's performance, you can also consider other evaluation metrics such as the root mean squared error (RMSE), mean absolute error (MAE), or coefficient of determination (R-squared). Additionally, visualizing the predicted values against the actual values in scatter plots or regression plots can provide insights into the model's performance.\n",
    "\n",
    "In summary, an MSE of 3.744599393294227e-16 suggests that your linear regression model is fitting the data very well, but be cautious of potential overfitting and consider evaluating the model using additional metrics and visualizations.\n",
    "\n",
    "The value 3.744599393294227e-16 is in scientific notation, where \"e-16\" indicates \"10 to the power of -16.\" Therefore, the value can be expressed as:\n",
    "\n",
    "0.0000000000000003744599393294227\n",
    "\n",
    "In decimal form, this is an extremely small number very close to zero. It represents the mean squared error (MSE), which measures the average squared difference between the predicted and actual values. In this case, the MSE value being very close to zero suggests that the predicted values are almost identical to the actual values, indicating a very accurate model.\n",
    "\n",
    "However, it's important to note that when dealing with floating-point values and numerical computations, extremely small values like this can be subject to rounding errors and precision limitations. In practical terms, achieving an MSE value of exactly zero is highly unlikely and might indicate some numerical artifacts. Therefore, it's essential to interpret such small values with caution and consider them as close to zero rather than absolute zero."
   ]
  },
  {
   "cell_type": "markdown",
   "id": "755b5523",
   "metadata": {},
   "source": [
    "# Make predictions\n",
    "Once you have trained and evaluated your model, you can use it to make predictions on new data. Create a function that takes user-specified variables as input and predicts the house price."
   ]
  },
  {
   "cell_type": "code",
   "execution_count": 108,
   "id": "f98f1f68",
   "metadata": {
    "scrolled": true
   },
   "outputs": [
    {
     "ename": "ValueError",
     "evalue": "columns are missing: {'Price'}",
     "output_type": "error",
     "traceback": [
      "\u001b[0;31m---------------------------------------------------------------------------\u001b[0m",
      "\u001b[0;31mValueError\u001b[0m                                Traceback (most recent call last)",
      "Cell \u001b[0;32mIn[108], line 18\u001b[0m\n\u001b[1;32m      6\u001b[0m energy_value \u001b[38;5;241m=\u001b[39m \u001b[38;5;124m\"\u001b[39m\u001b[38;5;124mE\u001b[39m\u001b[38;5;124m\"\u001b[39m\n\u001b[1;32m      9\u001b[0m new_data \u001b[38;5;241m=\u001b[39m pd\u001b[38;5;241m.\u001b[39mDataFrame({\n\u001b[1;32m     10\u001b[0m     \u001b[38;5;124m'\u001b[39m\u001b[38;5;124mX\u001b[39m\u001b[38;5;124m'\u001b[39m: [x_value],\n\u001b[1;32m     11\u001b[0m     \u001b[38;5;124m'\u001b[39m\u001b[38;5;124mY\u001b[39m\u001b[38;5;124m'\u001b[39m: [y_value],\n\u001b[0;32m   (...)\u001b[0m\n\u001b[1;32m     14\u001b[0m     \u001b[38;5;124m'\u001b[39m\u001b[38;5;124mEnergy class\u001b[39m\u001b[38;5;124m'\u001b[39m: [energy_value]\n\u001b[1;32m     15\u001b[0m })\n\u001b[0;32m---> 18\u001b[0m new_data_encoded \u001b[38;5;241m=\u001b[39m \u001b[43mencoder\u001b[49m\u001b[38;5;241;43m.\u001b[39;49m\u001b[43mtransform\u001b[49m\u001b[43m(\u001b[49m\u001b[43mnew_data\u001b[49m\u001b[43m)\u001b[49m\n\u001b[1;32m     20\u001b[0m prediction \u001b[38;5;241m=\u001b[39m model\u001b[38;5;241m.\u001b[39mpredict(new_data_encoded)\n\u001b[1;32m     22\u001b[0m \u001b[38;5;66;03m# Print the predicted price\u001b[39;00m\n",
      "File \u001b[0;32m/opt/homebrew/lib/python3.11/site-packages/sklearn/utils/_set_output.py:140\u001b[0m, in \u001b[0;36m_wrap_method_output.<locals>.wrapped\u001b[0;34m(self, X, *args, **kwargs)\u001b[0m\n\u001b[1;32m    138\u001b[0m \u001b[38;5;129m@wraps\u001b[39m(f)\n\u001b[1;32m    139\u001b[0m \u001b[38;5;28;01mdef\u001b[39;00m \u001b[38;5;21mwrapped\u001b[39m(\u001b[38;5;28mself\u001b[39m, X, \u001b[38;5;241m*\u001b[39margs, \u001b[38;5;241m*\u001b[39m\u001b[38;5;241m*\u001b[39mkwargs):\n\u001b[0;32m--> 140\u001b[0m     data_to_wrap \u001b[38;5;241m=\u001b[39m \u001b[43mf\u001b[49m\u001b[43m(\u001b[49m\u001b[38;5;28;43mself\u001b[39;49m\u001b[43m,\u001b[49m\u001b[43m \u001b[49m\u001b[43mX\u001b[49m\u001b[43m,\u001b[49m\u001b[43m \u001b[49m\u001b[38;5;241;43m*\u001b[39;49m\u001b[43margs\u001b[49m\u001b[43m,\u001b[49m\u001b[43m \u001b[49m\u001b[38;5;241;43m*\u001b[39;49m\u001b[38;5;241;43m*\u001b[39;49m\u001b[43mkwargs\u001b[49m\u001b[43m)\u001b[49m\n\u001b[1;32m    141\u001b[0m     \u001b[38;5;28;01mif\u001b[39;00m \u001b[38;5;28misinstance\u001b[39m(data_to_wrap, \u001b[38;5;28mtuple\u001b[39m):\n\u001b[1;32m    142\u001b[0m         \u001b[38;5;66;03m# only wrap the first output for cross decomposition\u001b[39;00m\n\u001b[1;32m    143\u001b[0m         \u001b[38;5;28;01mreturn\u001b[39;00m (\n\u001b[1;32m    144\u001b[0m             _wrap_data_with_container(method, data_to_wrap[\u001b[38;5;241m0\u001b[39m], X, \u001b[38;5;28mself\u001b[39m),\n\u001b[1;32m    145\u001b[0m             \u001b[38;5;241m*\u001b[39mdata_to_wrap[\u001b[38;5;241m1\u001b[39m:],\n\u001b[1;32m    146\u001b[0m         )\n",
      "File \u001b[0;32m/opt/homebrew/lib/python3.11/site-packages/sklearn/compose/_column_transformer.py:794\u001b[0m, in \u001b[0;36mColumnTransformer.transform\u001b[0;34m(self, X)\u001b[0m\n\u001b[1;32m    792\u001b[0m     diff \u001b[38;5;241m=\u001b[39m all_names \u001b[38;5;241m-\u001b[39m \u001b[38;5;28mset\u001b[39m(X\u001b[38;5;241m.\u001b[39mcolumns)\n\u001b[1;32m    793\u001b[0m     \u001b[38;5;28;01mif\u001b[39;00m diff:\n\u001b[0;32m--> 794\u001b[0m         \u001b[38;5;28;01mraise\u001b[39;00m \u001b[38;5;167;01mValueError\u001b[39;00m(\u001b[38;5;124mf\u001b[39m\u001b[38;5;124m\"\u001b[39m\u001b[38;5;124mcolumns are missing: \u001b[39m\u001b[38;5;132;01m{\u001b[39;00mdiff\u001b[38;5;132;01m}\u001b[39;00m\u001b[38;5;124m\"\u001b[39m)\n\u001b[1;32m    795\u001b[0m \u001b[38;5;28;01melse\u001b[39;00m:\n\u001b[1;32m    796\u001b[0m     \u001b[38;5;66;03m# ndarray was used for fitting or transforming, thus we only\u001b[39;00m\n\u001b[1;32m    797\u001b[0m     \u001b[38;5;66;03m# check that n_features_in_ is consistent\u001b[39;00m\n\u001b[1;32m    798\u001b[0m     \u001b[38;5;28mself\u001b[39m\u001b[38;5;241m.\u001b[39m_check_n_features(X, reset\u001b[38;5;241m=\u001b[39m\u001b[38;5;28;01mFalse\u001b[39;00m)\n",
      "\u001b[0;31mValueError\u001b[0m: columns are missing: {'Price'}"
     ]
    }
   ],
   "source": [
    "# User input\n",
    "x_value = 55.455\n",
    "y_value = 12.523\n",
    "type_value = \"Ejerlejlighed\"\n",
    "size_value = 75\n",
    "energy_value = \"E\"\n",
    "\n",
    "\n",
    "new_data = pd.DataFrame({\n",
    "    'X': [x_value],\n",
    "    'Y': [y_value],\n",
    "    'Type': [type_value],\n",
    "    'Size': [size_value],\n",
    "    'Energy class': [energy_value]\n",
    "})\n",
    "\n",
    "\n",
    "new_data_encoded = encoder.transform(new_data)\n",
    "\n",
    "prediction = model.predict(new_data_encoded)\n",
    "\n",
    "# Print the predicted price\n",
    "print(\"Predicted Price:\", user_pred[0])\n"
   ]
  },
  {
   "cell_type": "code",
   "execution_count": 130,
   "id": "14071966",
   "metadata": {},
   "outputs": [
    {
     "name": "stdout",
     "output_type": "stream",
     "text": [
      "Predicted Price: 21935691.4225111\n"
     ]
    }
   ],
   "source": [
    "import pandas as pd\n",
    "from sklearn.model_selection import train_test_split\n",
    "from sklearn.linear_model import LinearRegression\n",
    "from sklearn.compose import ColumnTransformer\n",
    "from sklearn.preprocessing import OneHotEncoder\n",
    "\n",
    "cities = ['2800', '2820', '2830', '2840', '2850', '2900', '2920', '2930', '2942', '2950', '3000', '3460']\n",
    "dataframes = []\n",
    "\n",
    "for city in cities:\n",
    "    filename = f'./data/house_data/house_data_{city}.csv'\n",
    "    df = pd.read_csv(filename)\n",
    "    dataframes.append(df)\n",
    "\n",
    "combined_df = pd.concat(dataframes, ignore_index=True)\n",
    "combined_df.dropna(inplace=True)\n",
    "\n",
    "features = ['X', 'Y', 'Type', 'Size', 'Energy class']\n",
    "target = \"Price\"\n",
    "\n",
    "X = combined_df[features]\n",
    "y = combined_df[target]\n",
    "\n",
    "# One-hot encode categorical features\n",
    "ct = ColumnTransformer([('encoder', OneHotEncoder(), [2, 4])], remainder='passthrough')\n",
    "X_encoded = ct.fit_transform(X)\n",
    "\n",
    "X_train, X_test, y_train, y_test = train_test_split(X_encoded, y, test_size=0.2, random_state=42)\n",
    "\n",
    "model = LinearRegression()\n",
    "model.fit(X_train, y_train)\n",
    "\n",
    "# User input\n",
    "x_value = 55.455\n",
    "y_value = 12.523\n",
    "type_value = \"Villa\"\n",
    "size_value = 110\n",
    "energy_value = \"A2015\"\n",
    "\n",
    "new_data = pd.DataFrame({\n",
    "    'X': [x_value],\n",
    "    'Y': [y_value],\n",
    "    'Type': [type_value],\n",
    "    'Size': [size_value],\n",
    "    'Energy class': [energy_value]\n",
    "})\n",
    "\n",
    "new_data_encoded = ct.transform(new_data)\n",
    "\n",
    "prediction = model.predict(new_data_encoded)\n",
    "\n",
    "# Print the predicted price\n",
    "print(\"Predicted Price:\", prediction[0])\n"
   ]
  }
 ],
 "metadata": {
  "kernelspec": {
   "display_name": "Python 3 (ipykernel)",
   "language": "python",
   "name": "python3"
  },
  "language_info": {
   "codemirror_mode": {
    "name": "ipython",
    "version": 3
   },
   "file_extension": ".py",
   "mimetype": "text/x-python",
   "name": "python",
   "nbconvert_exporter": "python",
   "pygments_lexer": "ipython3",
   "version": "3.11.3"
  }
 },
 "nbformat": 4,
 "nbformat_minor": 5
}
