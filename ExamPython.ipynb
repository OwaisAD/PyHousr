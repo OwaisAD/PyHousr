{
 "cells": [
  {
   "cell_type": "code",
   "execution_count": 1,
   "id": "70e17ade",
   "metadata": {},
   "outputs": [
    {
     "name": "stdout",
     "output_type": "stream",
     "text": [
      "Let's get started with the python exam project!\n"
     ]
    }
   ],
   "source": [
    "def print_begin():\n",
    "    print(\"Let's get started with the python exam project!\")\n",
    "\n",
    "\n",
    "print_begin()\n"
   ]
  },
  {
   "cell_type": "code",
   "execution_count": null,
   "id": "e27602a3",
   "metadata": {},
   "outputs": [],
   "source": []
  }
 ],
 "metadata": {
  "kernelspec": {
   "display_name": "Python 3 (ipykernel)",
   "language": "python",
   "name": "python3"
  },
  "language_info": {
   "codemirror_mode": {
    "name": "ipython",
    "version": 3
   },
   "file_extension": ".py",
   "mimetype": "text/x-python",
   "name": "python",
   "nbconvert_exporter": "python",
   "pygments_lexer": "ipython3",
   "version": "3.10.7"
  }
 },
 "nbformat": 4,
 "nbformat_minor": 5
}
