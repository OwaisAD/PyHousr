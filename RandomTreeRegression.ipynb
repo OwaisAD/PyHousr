{
 "cells": [
  {
   "attachments": {},
   "cell_type": "markdown",
   "metadata": {},
   "source": [
    "# Step 1 - Importing our data\n",
    "Importing the data we are going to use. In our case the data is placed in multiple .csv-files based on each individual city zip_code. We iterate over each city in the list and reads the corresponding .CSV file using pd.read_csv. The 'City' column of each DataFrame is assigned the integer value of the city code. The DataFrames are then appended to the dataframes list."
   ]
  },
  {
   "cell_type": "code",
   "execution_count": 44,
   "metadata": {},
   "outputs": [
    {
     "data": {
      "text/html": [
       "<div>\n",
       "<style scoped>\n",
       "    .dataframe tbody tr th:only-of-type {\n",
       "        vertical-align: middle;\n",
       "    }\n",
       "\n",
       "    .dataframe tbody tr th {\n",
       "        vertical-align: top;\n",
       "    }\n",
       "\n",
       "    .dataframe thead th {\n",
       "        text-align: right;\n",
       "    }\n",
       "</style>\n",
       "<table border=\"1\" class=\"dataframe\">\n",
       "  <thead>\n",
       "    <tr style=\"text-align: right;\">\n",
       "      <th></th>\n",
       "      <th>Address</th>\n",
       "      <th>X</th>\n",
       "      <th>Y</th>\n",
       "      <th>Price</th>\n",
       "      <th>Type</th>\n",
       "      <th>Size</th>\n",
       "      <th>Squaremeter price</th>\n",
       "      <th>Energy class</th>\n",
       "      <th>Url</th>\n",
       "      <th>City</th>\n",
       "    </tr>\n",
       "  </thead>\n",
       "  <tbody>\n",
       "    <tr>\n",
       "      <th>0</th>\n",
       "      <td>Nørgaardsvej 27, 2. th</td>\n",
       "      <td>55.770647</td>\n",
       "      <td>12.508193</td>\n",
       "      <td>1595000</td>\n",
       "      <td>Ejerlejlighed</td>\n",
       "      <td>44</td>\n",
       "      <td>36250</td>\n",
       "      <td>E</td>\n",
       "      <td>https://www.dingeo.dk/adresse/2800-kongens%20l...</td>\n",
       "      <td>2800</td>\n",
       "    </tr>\n",
       "    <tr>\n",
       "      <th>1</th>\n",
       "      <td>Gammelmosevej 218</td>\n",
       "      <td>55.756103</td>\n",
       "      <td>12.480264</td>\n",
       "      <td>4495000</td>\n",
       "      <td>Rækkehus</td>\n",
       "      <td>113</td>\n",
       "      <td>39778</td>\n",
       "      <td>C</td>\n",
       "      <td>https://www.dingeo.dk/adresse/2800-kongens%20l...</td>\n",
       "      <td>2800</td>\n",
       "    </tr>\n",
       "    <tr>\n",
       "      <th>2</th>\n",
       "      <td>Danmarksvej 43A</td>\n",
       "      <td>55.794678</td>\n",
       "      <td>12.517936</td>\n",
       "      <td>7695000</td>\n",
       "      <td>Villa</td>\n",
       "      <td>182</td>\n",
       "      <td>42280</td>\n",
       "      <td>D</td>\n",
       "      <td>https://www.dingeo.dk/adresse/2800-kongens%20l...</td>\n",
       "      <td>2800</td>\n",
       "    </tr>\n",
       "    <tr>\n",
       "      <th>3</th>\n",
       "      <td>Stengårdsvænge 103</td>\n",
       "      <td>55.759154</td>\n",
       "      <td>12.482144</td>\n",
       "      <td>5295000</td>\n",
       "      <td>Rækkehus</td>\n",
       "      <td>102</td>\n",
       "      <td>51911</td>\n",
       "      <td>C</td>\n",
       "      <td>https://www.dingeo.dk/adresse/2800-kongens%20l...</td>\n",
       "      <td>2800</td>\n",
       "    </tr>\n",
       "    <tr>\n",
       "      <th>4</th>\n",
       "      <td>Buddingevej 110</td>\n",
       "      <td>55.758719</td>\n",
       "      <td>12.494712</td>\n",
       "      <td>8750000</td>\n",
       "      <td>Villa</td>\n",
       "      <td>188</td>\n",
       "      <td>46542</td>\n",
       "      <td>D</td>\n",
       "      <td>https://www.dingeo.dk/adresse/2800-kongens%20l...</td>\n",
       "      <td>2800</td>\n",
       "    </tr>\n",
       "  </tbody>\n",
       "</table>\n",
       "</div>"
      ],
      "text/plain": [
       "                  Address          X          Y    Price           Type  Size   \n",
       "0  Nørgaardsvej 27, 2. th  55.770647  12.508193  1595000  Ejerlejlighed    44  \\\n",
       "1       Gammelmosevej 218  55.756103  12.480264  4495000       Rækkehus   113   \n",
       "2         Danmarksvej 43A  55.794678  12.517936  7695000          Villa   182   \n",
       "3      Stengårdsvænge 103  55.759154  12.482144  5295000       Rækkehus   102   \n",
       "4         Buddingevej 110  55.758719  12.494712  8750000          Villa   188   \n",
       "\n",
       "   Squaremeter price Energy class   \n",
       "0              36250            E  \\\n",
       "1              39778            C   \n",
       "2              42280            D   \n",
       "3              51911            C   \n",
       "4              46542            D   \n",
       "\n",
       "                                                 Url  City  \n",
       "0  https://www.dingeo.dk/adresse/2800-kongens%20l...  2800  \n",
       "1  https://www.dingeo.dk/adresse/2800-kongens%20l...  2800  \n",
       "2  https://www.dingeo.dk/adresse/2800-kongens%20l...  2800  \n",
       "3  https://www.dingeo.dk/adresse/2800-kongens%20l...  2800  \n",
       "4  https://www.dingeo.dk/adresse/2800-kongens%20l...  2800  "
      ]
     },
     "execution_count": 44,
     "metadata": {},
     "output_type": "execute_result"
    }
   ],
   "source": [
    "import pandas as pd\n",
    "from sklearn.ensemble import RandomForestRegressor\n",
    "from sklearn.model_selection import train_test_split\n",
    "from sklearn.preprocessing import LabelEncoder\n",
    "from sklearn.metrics import mean_squared_error, r2_score\n",
    "import joblib\n",
    "import locale\n",
    "\n",
    "cities = ['2800', '2820', '2830', '2840', '2850', '2900', '2920', '2930', '2942', '2950', '3000', '3460']\n",
    "dataframes = []\n",
    "\n",
    "for city in cities:\n",
    "    filename = f'./data/house_data/house_data_{city}.csv'\n",
    "    df = pd.read_csv(filename)\n",
    "    df[\"City\"] = int(city)\n",
    "    dataframes.append(df)\n",
    "data = pd.concat(dataframes, ignore_index=True)\n",
    "\n",
    "data.head(5)"
   ]
  },
  {
   "attachments": {},
   "cell_type": "markdown",
   "metadata": {},
   "source": [
    "# Step 2 - Data processing\n",
    "Any rows containing missing values are dropped using data.dropna(inplace=True)"
   ]
  },
  {
   "cell_type": "code",
   "execution_count": 45,
   "metadata": {},
   "outputs": [],
   "source": [
    "data.dropna(inplace=True)"
   ]
  },
  {
   "attachments": {},
   "cell_type": "markdown",
   "metadata": {},
   "source": [
    "# Step 3 - Feauture Selection\n",
    "Selecting the relevant features (variables) that we want to use for predicting the price. We exclude any columns that are not useful or not available during prediction."
   ]
  },
  {
   "cell_type": "code",
   "execution_count": 46,
   "metadata": {},
   "outputs": [],
   "source": [
    "features = ['X', 'Y', 'Size', 'Type', 'Energy class', 'City']\n",
    "target = 'Price'"
   ]
  },
  {
   "attachments": {},
   "cell_type": "markdown",
   "metadata": {},
   "source": [
    "# Step 4  - Preprocess and Split the data\n",
    "A dictionary called label_encoders is created to store the label encoders for categorical features. The code then iterates over each feature in features and checks if the feature's data type is 'object' (indicating a categorical feature - meaning non-numeric). If it is, a LabelEncoder is created for that feature, and the feature values in the data DataFrame are transformed using label_encoders[feature].fit_transform(data[feature]).\n",
    "\n",
    "Spliting the data into training and testing sets to evaluate the performance of your machine learning model. The training set will be used to train the model, and the testing set will be used to evaluate its performance."
   ]
  },
  {
   "cell_type": "code",
   "execution_count": 47,
   "metadata": {},
   "outputs": [
    {
     "name": "stdout",
     "output_type": "stream",
     "text": [
      "{'Type': LabelEncoder(), 'Energy class': LabelEncoder()}\n"
     ]
    }
   ],
   "source": [
    "# Preprocess the data\n",
    "label_encoders = {}\n",
    "for feature in features:\n",
    "    if data[feature].dtype == 'object':\n",
    "        label_encoders[feature] = LabelEncoder()\n",
    "        data[feature] = label_encoders[feature].fit_transform(data[feature])\n",
    "\n",
    "print(label_encoders)\n",
    "\n",
    "# Split the data into training and testing sets\n",
    "X_train, X_test, y_train, y_test = train_test_split(data[features], data[target], test_size=0.2, random_state=42)"
   ]
  },
  {
   "attachments": {},
   "cell_type": "markdown",
   "metadata": {},
   "source": [
    "# Step 5 - Train a model\n",
    "Choose a suitable machine learning algorithm for your task, such as linear regression, decision tree, or random forest. Train the model on the training data. \n",
    "The data DataFrame is split into training and testing sets using train_test_split. The training set (X_train, y_train) will be used to train the model, while the testing set (X_test, y_test) will be used for evaluation."
   ]
  },
  {
   "cell_type": "code",
   "execution_count": 48,
   "metadata": {},
   "outputs": [
    {
     "data": {
      "text/html": [
       "<style>#sk-container-id-5 {color: black;background-color: white;}#sk-container-id-5 pre{padding: 0;}#sk-container-id-5 div.sk-toggleable {background-color: white;}#sk-container-id-5 label.sk-toggleable__label {cursor: pointer;display: block;width: 100%;margin-bottom: 0;padding: 0.3em;box-sizing: border-box;text-align: center;}#sk-container-id-5 label.sk-toggleable__label-arrow:before {content: \"▸\";float: left;margin-right: 0.25em;color: #696969;}#sk-container-id-5 label.sk-toggleable__label-arrow:hover:before {color: black;}#sk-container-id-5 div.sk-estimator:hover label.sk-toggleable__label-arrow:before {color: black;}#sk-container-id-5 div.sk-toggleable__content {max-height: 0;max-width: 0;overflow: hidden;text-align: left;background-color: #f0f8ff;}#sk-container-id-5 div.sk-toggleable__content pre {margin: 0.2em;color: black;border-radius: 0.25em;background-color: #f0f8ff;}#sk-container-id-5 input.sk-toggleable__control:checked~div.sk-toggleable__content {max-height: 200px;max-width: 100%;overflow: auto;}#sk-container-id-5 input.sk-toggleable__control:checked~label.sk-toggleable__label-arrow:before {content: \"▾\";}#sk-container-id-5 div.sk-estimator input.sk-toggleable__control:checked~label.sk-toggleable__label {background-color: #d4ebff;}#sk-container-id-5 div.sk-label input.sk-toggleable__control:checked~label.sk-toggleable__label {background-color: #d4ebff;}#sk-container-id-5 input.sk-hidden--visually {border: 0;clip: rect(1px 1px 1px 1px);clip: rect(1px, 1px, 1px, 1px);height: 1px;margin: -1px;overflow: hidden;padding: 0;position: absolute;width: 1px;}#sk-container-id-5 div.sk-estimator {font-family: monospace;background-color: #f0f8ff;border: 1px dotted black;border-radius: 0.25em;box-sizing: border-box;margin-bottom: 0.5em;}#sk-container-id-5 div.sk-estimator:hover {background-color: #d4ebff;}#sk-container-id-5 div.sk-parallel-item::after {content: \"\";width: 100%;border-bottom: 1px solid gray;flex-grow: 1;}#sk-container-id-5 div.sk-label:hover label.sk-toggleable__label {background-color: #d4ebff;}#sk-container-id-5 div.sk-serial::before {content: \"\";position: absolute;border-left: 1px solid gray;box-sizing: border-box;top: 0;bottom: 0;left: 50%;z-index: 0;}#sk-container-id-5 div.sk-serial {display: flex;flex-direction: column;align-items: center;background-color: white;padding-right: 0.2em;padding-left: 0.2em;position: relative;}#sk-container-id-5 div.sk-item {position: relative;z-index: 1;}#sk-container-id-5 div.sk-parallel {display: flex;align-items: stretch;justify-content: center;background-color: white;position: relative;}#sk-container-id-5 div.sk-item::before, #sk-container-id-5 div.sk-parallel-item::before {content: \"\";position: absolute;border-left: 1px solid gray;box-sizing: border-box;top: 0;bottom: 0;left: 50%;z-index: -1;}#sk-container-id-5 div.sk-parallel-item {display: flex;flex-direction: column;z-index: 1;position: relative;background-color: white;}#sk-container-id-5 div.sk-parallel-item:first-child::after {align-self: flex-end;width: 50%;}#sk-container-id-5 div.sk-parallel-item:last-child::after {align-self: flex-start;width: 50%;}#sk-container-id-5 div.sk-parallel-item:only-child::after {width: 0;}#sk-container-id-5 div.sk-dashed-wrapped {border: 1px dashed gray;margin: 0 0.4em 0.5em 0.4em;box-sizing: border-box;padding-bottom: 0.4em;background-color: white;}#sk-container-id-5 div.sk-label label {font-family: monospace;font-weight: bold;display: inline-block;line-height: 1.2em;}#sk-container-id-5 div.sk-label-container {text-align: center;}#sk-container-id-5 div.sk-container {/* jupyter's `normalize.less` sets `[hidden] { display: none; }` but bootstrap.min.css set `[hidden] { display: none !important; }` so we also need the `!important` here to be able to override the default hidden behavior on the sphinx rendered scikit-learn.org. See: https://github.com/scikit-learn/scikit-learn/issues/21755 */display: inline-block !important;position: relative;}#sk-container-id-5 div.sk-text-repr-fallback {display: none;}</style><div id=\"sk-container-id-5\" class=\"sk-top-container\"><div class=\"sk-text-repr-fallback\"><pre>RandomForestRegressor(random_state=42)</pre><b>In a Jupyter environment, please rerun this cell to show the HTML representation or trust the notebook. <br />On GitHub, the HTML representation is unable to render, please try loading this page with nbviewer.org.</b></div><div class=\"sk-container\" hidden><div class=\"sk-item\"><div class=\"sk-estimator sk-toggleable\"><input class=\"sk-toggleable__control sk-hidden--visually\" id=\"sk-estimator-id-5\" type=\"checkbox\" checked><label for=\"sk-estimator-id-5\" class=\"sk-toggleable__label sk-toggleable__label-arrow\">RandomForestRegressor</label><div class=\"sk-toggleable__content\"><pre>RandomForestRegressor(random_state=42)</pre></div></div></div></div></div>"
      ],
      "text/plain": [
       "RandomForestRegressor(random_state=42)"
      ]
     },
     "execution_count": 48,
     "metadata": {},
     "output_type": "execute_result"
    }
   ],
   "source": [
    "# Train the random forest model\n",
    "model = RandomForestRegressor(n_estimators=100, random_state=42)\n",
    "model.fit(X_train, y_train)"
   ]
  },
  {
   "attachments": {},
   "cell_type": "markdown",
   "metadata": {},
   "source": [
    "# Saving the model for later use"
   ]
  },
  {
   "cell_type": "code",
   "execution_count": 49,
   "metadata": {},
   "outputs": [],
   "source": [
    "#joblib.dump(model, 'RFG_Model')"
   ]
  },
  {
   "attachments": {},
   "cell_type": "markdown",
   "metadata": {},
   "source": [
    "# Step 6 - Evaluate the model\n",
    "The code calculates the coefficient of determination (R2 score) between the predicted and actual prices using r2_score(y_test, y_pred). The R2 score indicates how well the model fits the data. The R2 score is a statistical measure that ranges from 0 to 1. A score of 0 means that the model fails to explain any of the variability in the target variable, while a score of 1 indicates that the model perfectly predicts the target variable.\n",
    "\n",
    "Therefore, an R2 score of 0.730780767260184 suggests that the model is performing reasonably well in explaining and predicting house prices, capturing about 73.08% of the patterns and trends in the data. However, it also means that there is still a portion (approximately 26.92%) of the variability in house prices that is not captured by the model. This could be bettered by adding house features such as ground size,  number of floors, has basement?, near ocean?, near highway?, noise in the area etc..."
   ]
  },
  {
   "cell_type": "code",
   "execution_count": 50,
   "metadata": {},
   "outputs": [
    {
     "name": "stdout",
     "output_type": "stream",
     "text": [
      "R2-score 0.86320100014592\n"
     ]
    }
   ],
   "source": [
    "# Make predictions on the test set\n",
    "y_pred = model.predict(X_test)\n",
    "\n",
    "# Evaluate the model\n",
    "r2 = r2_score(y_test, y_pred)\n",
    "print(f\"R2-score {r2}\")\n",
    "\n",
    "# mse = mean_squared_error(y_test, y_pred)\n",
    "# rmse = mse**0.5\n",
    "# print(f\"Root Mean Squared Error (RMSE): {rmse}\")"
   ]
  },
  {
   "attachments": {},
   "cell_type": "markdown",
   "metadata": {},
   "source": [
    "# Step 7 - Make predictions\n",
    "The code iterates over each feature in the features list. For each feature, it checks if the data type of the corresponding value in the new_house DataFrame is 'object'. If it is, it means the feature is categorical (non-numeric value) and needs to be label encoded. The label encoder converts the categorical value into a numerical representation based on the encoding it learned during training.\n",
    "\n",
    "After label encoding all the categorical features in the new_house DataFrame, we let the model make a prediction for the price of the new house using the model.predict() function. It passes the new_house DataFrame as the input to the model."
   ]
  },
  {
   "cell_type": "code",
   "execution_count": 51,
   "metadata": {},
   "outputs": [
    {
     "name": "stdout",
     "output_type": "stream",
     "text": [
      "Predicted price for the house: kr 1.668.280,00\n"
     ]
    }
   ],
   "source": [
    "# Apply label encoding to the new house data \n",
    "new_house = pd.DataFrame([[56.034845, 12.591295, 68, 'Ejerlejlighed', 'D', 3000]], columns=features)\n",
    "for feature in features:\n",
    "    if new_house[feature].dtype == 'object':\n",
    "        new_house[feature] = label_encoders[feature].transform(new_house[feature])\n",
    "        \n",
    "# Example prediction for a new house\n",
    "predicted_price = model.predict(new_house)\n",
    "locale.setlocale(locale.LC_ALL, 'da_DK.UTF-8')\n",
    "formatted_price = locale.currency(predicted_price[0], grouping=True)\n",
    "print(f\"Predicted price for the house: {formatted_price}\")"
   ]
  },
  {
   "attachments": {},
   "cell_type": "markdown",
   "metadata": {},
   "source": [
    "## Other visualizations"
   ]
  },
  {
   "cell_type": "code",
   "execution_count": 52,
   "metadata": {},
   "outputs": [
    {
     "data": {
      "image/png": "[encoded data removed]",
      "text/plain": [
       "<Figure size 640x480 with 1 Axes>"
      ]
     },
     "metadata": {},
     "output_type": "display_data"
    }
   ],
   "source": [
    "# Values that are used for the prediction based on importance for the model\n",
    "model_ranks = pd.Series(model.feature_importances_, index=X_train.columns, name=\"Importance\").sort_values()\n",
    "ax = model_ranks.plot(kind=\"barh\")"
   ]
  },
  {
   "cell_type": "code",
   "execution_count": null,
   "metadata": {},
   "outputs": [],
   "source": []
  }
 ],
 "metadata": {
  "kernelspec": {
   "display_name": "Python 3",
   "language": "python",
   "name": "python3"
  },
  "language_info": {
   "codemirror_mode": {
    "name": "ipython",
    "version": 3
   },
   "file_extension": ".py",
   "mimetype": "text/x-python",
   "name": "python",
   "nbconvert_exporter": "python",
   "pygments_lexer": "ipython3",
   "version": "3.11.3"
  },
  "orig_nbformat": 4
 },
 "nbformat": 4,
 "nbformat_minor": 2
}
