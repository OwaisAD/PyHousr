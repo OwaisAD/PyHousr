{
 "cells": [
  {
   "attachments": {},
   "cell_type": "markdown",
   "metadata": {},
   "source": [
    "# Step 1 - Importing our data\n",
    "Importing the data we are going to use. In our case the data is placed in multiple .csv-files based on each individual city zip_code. We iterate over each city in the list and reads the corresponding .CSV file using pd.read_csv. The 'City' column of each DataFrame is assigned the integer value of the city code. The DataFrames are then appended to the dataframes list."
   ]
  },
  {
   "cell_type": "code",
<<<<<<< HEAD
   "execution_count": 134,
   "metadata": {},
   "outputs": [
    {
     "ename": "FileNotFoundError",
     "evalue": "[Errno 2] No such file or directory: './data/house_data/house_data_30003460.csv'",
     "output_type": "error",
     "traceback": [
      "\u001b[0;31m---------------------------------------------------------------------------\u001b[0m",
      "\u001b[0;31mFileNotFoundError\u001b[0m                         Traceback (most recent call last)",
      "Cell \u001b[0;32mIn[134], line 14\u001b[0m\n\u001b[1;32m     12\u001b[0m \u001b[39mfor\u001b[39;00m city \u001b[39min\u001b[39;00m cities:\n\u001b[1;32m     13\u001b[0m     filename \u001b[39m=\u001b[39m \u001b[39mf\u001b[39m\u001b[39m'\u001b[39m\u001b[39m./data/house_data/house_data_\u001b[39m\u001b[39m{\u001b[39;00mcity\u001b[39m}\u001b[39;00m\u001b[39m.csv\u001b[39m\u001b[39m'\u001b[39m\n\u001b[0;32m---> 14\u001b[0m     df \u001b[39m=\u001b[39m pd\u001b[39m.\u001b[39;49mread_csv(filename)\n\u001b[1;32m     15\u001b[0m     df[\u001b[39m\"\u001b[39m\u001b[39mCity\u001b[39m\u001b[39m\"\u001b[39m] \u001b[39m=\u001b[39m \u001b[39mint\u001b[39m(city)\n\u001b[1;32m     16\u001b[0m     dataframes\u001b[39m.\u001b[39mappend(df)\n",
      "File \u001b[0;32m/opt/homebrew/lib/python3.11/site-packages/pandas/io/parsers/readers.py:912\u001b[0m, in \u001b[0;36mread_csv\u001b[0;34m(filepath_or_buffer, sep, delimiter, header, names, index_col, usecols, dtype, engine, converters, true_values, false_values, skipinitialspace, skiprows, skipfooter, nrows, na_values, keep_default_na, na_filter, verbose, skip_blank_lines, parse_dates, infer_datetime_format, keep_date_col, date_parser, date_format, dayfirst, cache_dates, iterator, chunksize, compression, thousands, decimal, lineterminator, quotechar, quoting, doublequote, escapechar, comment, encoding, encoding_errors, dialect, on_bad_lines, delim_whitespace, low_memory, memory_map, float_precision, storage_options, dtype_backend)\u001b[0m\n\u001b[1;32m    899\u001b[0m kwds_defaults \u001b[39m=\u001b[39m _refine_defaults_read(\n\u001b[1;32m    900\u001b[0m     dialect,\n\u001b[1;32m    901\u001b[0m     delimiter,\n\u001b[0;32m   (...)\u001b[0m\n\u001b[1;32m    908\u001b[0m     dtype_backend\u001b[39m=\u001b[39mdtype_backend,\n\u001b[1;32m    909\u001b[0m )\n\u001b[1;32m    910\u001b[0m kwds\u001b[39m.\u001b[39mupdate(kwds_defaults)\n\u001b[0;32m--> 912\u001b[0m \u001b[39mreturn\u001b[39;00m _read(filepath_or_buffer, kwds)\n",
      "File \u001b[0;32m/opt/homebrew/lib/python3.11/site-packages/pandas/io/parsers/readers.py:577\u001b[0m, in \u001b[0;36m_read\u001b[0;34m(filepath_or_buffer, kwds)\u001b[0m\n\u001b[1;32m    574\u001b[0m _validate_names(kwds\u001b[39m.\u001b[39mget(\u001b[39m\"\u001b[39m\u001b[39mnames\u001b[39m\u001b[39m\"\u001b[39m, \u001b[39mNone\u001b[39;00m))\n\u001b[1;32m    576\u001b[0m \u001b[39m# Create the parser.\u001b[39;00m\n\u001b[0;32m--> 577\u001b[0m parser \u001b[39m=\u001b[39m TextFileReader(filepath_or_buffer, \u001b[39m*\u001b[39;49m\u001b[39m*\u001b[39;49mkwds)\n\u001b[1;32m    579\u001b[0m \u001b[39mif\u001b[39;00m chunksize \u001b[39mor\u001b[39;00m iterator:\n\u001b[1;32m    580\u001b[0m     \u001b[39mreturn\u001b[39;00m parser\n",
      "File \u001b[0;32m/opt/homebrew/lib/python3.11/site-packages/pandas/io/parsers/readers.py:1407\u001b[0m, in \u001b[0;36mTextFileReader.__init__\u001b[0;34m(self, f, engine, **kwds)\u001b[0m\n\u001b[1;32m   1404\u001b[0m     \u001b[39mself\u001b[39m\u001b[39m.\u001b[39moptions[\u001b[39m\"\u001b[39m\u001b[39mhas_index_names\u001b[39m\u001b[39m\"\u001b[39m] \u001b[39m=\u001b[39m kwds[\u001b[39m\"\u001b[39m\u001b[39mhas_index_names\u001b[39m\u001b[39m\"\u001b[39m]\n\u001b[1;32m   1406\u001b[0m \u001b[39mself\u001b[39m\u001b[39m.\u001b[39mhandles: IOHandles \u001b[39m|\u001b[39m \u001b[39mNone\u001b[39;00m \u001b[39m=\u001b[39m \u001b[39mNone\u001b[39;00m\n\u001b[0;32m-> 1407\u001b[0m \u001b[39mself\u001b[39m\u001b[39m.\u001b[39m_engine \u001b[39m=\u001b[39m \u001b[39mself\u001b[39;49m\u001b[39m.\u001b[39;49m_make_engine(f, \u001b[39mself\u001b[39;49m\u001b[39m.\u001b[39;49mengine)\n",
      "File \u001b[0;32m/opt/homebrew/lib/python3.11/site-packages/pandas/io/parsers/readers.py:1661\u001b[0m, in \u001b[0;36mTextFileReader._make_engine\u001b[0;34m(self, f, engine)\u001b[0m\n\u001b[1;32m   1659\u001b[0m     \u001b[39mif\u001b[39;00m \u001b[39m\"\u001b[39m\u001b[39mb\u001b[39m\u001b[39m\"\u001b[39m \u001b[39mnot\u001b[39;00m \u001b[39min\u001b[39;00m mode:\n\u001b[1;32m   1660\u001b[0m         mode \u001b[39m+\u001b[39m\u001b[39m=\u001b[39m \u001b[39m\"\u001b[39m\u001b[39mb\u001b[39m\u001b[39m\"\u001b[39m\n\u001b[0;32m-> 1661\u001b[0m \u001b[39mself\u001b[39m\u001b[39m.\u001b[39mhandles \u001b[39m=\u001b[39m get_handle(\n\u001b[1;32m   1662\u001b[0m     f,\n\u001b[1;32m   1663\u001b[0m     mode,\n\u001b[1;32m   1664\u001b[0m     encoding\u001b[39m=\u001b[39;49m\u001b[39mself\u001b[39;49m\u001b[39m.\u001b[39;49moptions\u001b[39m.\u001b[39;49mget(\u001b[39m\"\u001b[39;49m\u001b[39mencoding\u001b[39;49m\u001b[39m\"\u001b[39;49m, \u001b[39mNone\u001b[39;49;00m),\n\u001b[1;32m   1665\u001b[0m     compression\u001b[39m=\u001b[39;49m\u001b[39mself\u001b[39;49m\u001b[39m.\u001b[39;49moptions\u001b[39m.\u001b[39;49mget(\u001b[39m\"\u001b[39;49m\u001b[39mcompression\u001b[39;49m\u001b[39m\"\u001b[39;49m, \u001b[39mNone\u001b[39;49;00m),\n\u001b[1;32m   1666\u001b[0m     memory_map\u001b[39m=\u001b[39;49m\u001b[39mself\u001b[39;49m\u001b[39m.\u001b[39;49moptions\u001b[39m.\u001b[39;49mget(\u001b[39m\"\u001b[39;49m\u001b[39mmemory_map\u001b[39;49m\u001b[39m\"\u001b[39;49m, \u001b[39mFalse\u001b[39;49;00m),\n\u001b[1;32m   1667\u001b[0m     is_text\u001b[39m=\u001b[39;49mis_text,\n\u001b[1;32m   1668\u001b[0m     errors\u001b[39m=\u001b[39;49m\u001b[39mself\u001b[39;49m\u001b[39m.\u001b[39;49moptions\u001b[39m.\u001b[39;49mget(\u001b[39m\"\u001b[39;49m\u001b[39mencoding_errors\u001b[39;49m\u001b[39m\"\u001b[39;49m, \u001b[39m\"\u001b[39;49m\u001b[39mstrict\u001b[39;49m\u001b[39m\"\u001b[39;49m),\n\u001b[1;32m   1669\u001b[0m     storage_options\u001b[39m=\u001b[39;49m\u001b[39mself\u001b[39;49m\u001b[39m.\u001b[39;49moptions\u001b[39m.\u001b[39;49mget(\u001b[39m\"\u001b[39;49m\u001b[39mstorage_options\u001b[39;49m\u001b[39m\"\u001b[39;49m, \u001b[39mNone\u001b[39;49;00m),\n\u001b[1;32m   1670\u001b[0m )\n\u001b[1;32m   1671\u001b[0m \u001b[39massert\u001b[39;00m \u001b[39mself\u001b[39m\u001b[39m.\u001b[39mhandles \u001b[39mis\u001b[39;00m \u001b[39mnot\u001b[39;00m \u001b[39mNone\u001b[39;00m\n\u001b[1;32m   1672\u001b[0m f \u001b[39m=\u001b[39m \u001b[39mself\u001b[39m\u001b[39m.\u001b[39mhandles\u001b[39m.\u001b[39mhandle\n",
      "File \u001b[0;32m/opt/homebrew/lib/python3.11/site-packages/pandas/io/common.py:859\u001b[0m, in \u001b[0;36mget_handle\u001b[0;34m(path_or_buf, mode, encoding, compression, memory_map, is_text, errors, storage_options)\u001b[0m\n\u001b[1;32m    854\u001b[0m \u001b[39melif\u001b[39;00m \u001b[39misinstance\u001b[39m(handle, \u001b[39mstr\u001b[39m):\n\u001b[1;32m    855\u001b[0m     \u001b[39m# Check whether the filename is to be opened in binary mode.\u001b[39;00m\n\u001b[1;32m    856\u001b[0m     \u001b[39m# Binary mode does not support 'encoding' and 'newline'.\u001b[39;00m\n\u001b[1;32m    857\u001b[0m     \u001b[39mif\u001b[39;00m ioargs\u001b[39m.\u001b[39mencoding \u001b[39mand\u001b[39;00m \u001b[39m\"\u001b[39m\u001b[39mb\u001b[39m\u001b[39m\"\u001b[39m \u001b[39mnot\u001b[39;00m \u001b[39min\u001b[39;00m ioargs\u001b[39m.\u001b[39mmode:\n\u001b[1;32m    858\u001b[0m         \u001b[39m# Encoding\u001b[39;00m\n\u001b[0;32m--> 859\u001b[0m         handle \u001b[39m=\u001b[39m \u001b[39mopen\u001b[39m(\n\u001b[1;32m    860\u001b[0m             handle,\n\u001b[1;32m    861\u001b[0m             ioargs\u001b[39m.\u001b[39mmode,\n\u001b[1;32m    862\u001b[0m             encoding\u001b[39m=\u001b[39mioargs\u001b[39m.\u001b[39mencoding,\n\u001b[1;32m    863\u001b[0m             errors\u001b[39m=\u001b[39merrors,\n\u001b[1;32m    864\u001b[0m             newline\u001b[39m=\u001b[39m\u001b[39m\"\u001b[39m\u001b[39m\"\u001b[39m,\n\u001b[1;32m    865\u001b[0m         )\n\u001b[1;32m    866\u001b[0m     \u001b[39melse\u001b[39;00m:\n\u001b[1;32m    867\u001b[0m         \u001b[39m# Binary mode\u001b[39;00m\n\u001b[1;32m    868\u001b[0m         handle \u001b[39m=\u001b[39m \u001b[39mopen\u001b[39m(handle, ioargs\u001b[39m.\u001b[39mmode)\n",
      "\u001b[0;31mFileNotFoundError\u001b[0m: [Errno 2] No such file or directory: './data/house_data/house_data_30003460.csv'"
     ]
=======
   "execution_count": 22,
   "metadata": {},
   "outputs": [
    {
     "data": {
      "text/html": [
       "<div>\n",
       "<style scoped>\n",
       "    .dataframe tbody tr th:only-of-type {\n",
       "        vertical-align: middle;\n",
       "    }\n",
       "\n",
       "    .dataframe tbody tr th {\n",
       "        vertical-align: top;\n",
       "    }\n",
       "\n",
       "    .dataframe thead th {\n",
       "        text-align: right;\n",
       "    }\n",
       "</style>\n",
       "<table border=\"1\" class=\"dataframe\">\n",
       "  <thead>\n",
       "    <tr style=\"text-align: right;\">\n",
       "      <th></th>\n",
       "      <th>Address</th>\n",
       "      <th>X</th>\n",
       "      <th>Y</th>\n",
       "      <th>Price</th>\n",
       "      <th>Type</th>\n",
       "      <th>Size</th>\n",
       "      <th>Squaremeter price</th>\n",
       "      <th>Energy class</th>\n",
       "      <th>Url</th>\n",
       "      <th>City</th>\n",
       "    </tr>\n",
       "  </thead>\n",
       "  <tbody>\n",
       "    <tr>\n",
       "      <th>0</th>\n",
       "      <td>Nørgaardsvej 27, 2. th</td>\n",
       "      <td>55.770647</td>\n",
       "      <td>12.508193</td>\n",
       "      <td>1595000</td>\n",
       "      <td>Ejerlejlighed</td>\n",
       "      <td>44</td>\n",
       "      <td>36250</td>\n",
       "      <td>E</td>\n",
       "      <td>https://www.dingeo.dk/adresse/2800-kongens%20l...</td>\n",
       "      <td>2800</td>\n",
       "    </tr>\n",
       "    <tr>\n",
       "      <th>1</th>\n",
       "      <td>Gammelmosevej 218</td>\n",
       "      <td>55.756103</td>\n",
       "      <td>12.480264</td>\n",
       "      <td>4495000</td>\n",
       "      <td>Rækkehus</td>\n",
       "      <td>113</td>\n",
       "      <td>39778</td>\n",
       "      <td>C</td>\n",
       "      <td>https://www.dingeo.dk/adresse/2800-kongens%20l...</td>\n",
       "      <td>2800</td>\n",
       "    </tr>\n",
       "    <tr>\n",
       "      <th>2</th>\n",
       "      <td>Danmarksvej 43A</td>\n",
       "      <td>55.794678</td>\n",
       "      <td>12.517936</td>\n",
       "      <td>7695000</td>\n",
       "      <td>Villa</td>\n",
       "      <td>182</td>\n",
       "      <td>42280</td>\n",
       "      <td>D</td>\n",
       "      <td>https://www.dingeo.dk/adresse/2800-kongens%20l...</td>\n",
       "      <td>2800</td>\n",
       "    </tr>\n",
       "    <tr>\n",
       "      <th>3</th>\n",
       "      <td>Stengårdsvænge 103</td>\n",
       "      <td>55.759154</td>\n",
       "      <td>12.482144</td>\n",
       "      <td>5295000</td>\n",
       "      <td>Rækkehus</td>\n",
       "      <td>102</td>\n",
       "      <td>51911</td>\n",
       "      <td>C</td>\n",
       "      <td>https://www.dingeo.dk/adresse/2800-kongens%20l...</td>\n",
       "      <td>2800</td>\n",
       "    </tr>\n",
       "    <tr>\n",
       "      <th>4</th>\n",
       "      <td>Buddingevej 110</td>\n",
       "      <td>55.758719</td>\n",
       "      <td>12.494712</td>\n",
       "      <td>8750000</td>\n",
       "      <td>Villa</td>\n",
       "      <td>188</td>\n",
       "      <td>46542</td>\n",
       "      <td>D</td>\n",
       "      <td>https://www.dingeo.dk/adresse/2800-kongens%20l...</td>\n",
       "      <td>2800</td>\n",
       "    </tr>\n",
       "  </tbody>\n",
       "</table>\n",
       "</div>"
      ],
      "text/plain": [
       "                  Address          X          Y    Price           Type  Size   \n",
       "0  Nørgaardsvej 27, 2. th  55.770647  12.508193  1595000  Ejerlejlighed    44  \\\n",
       "1       Gammelmosevej 218  55.756103  12.480264  4495000       Rækkehus   113   \n",
       "2         Danmarksvej 43A  55.794678  12.517936  7695000          Villa   182   \n",
       "3      Stengårdsvænge 103  55.759154  12.482144  5295000       Rækkehus   102   \n",
       "4         Buddingevej 110  55.758719  12.494712  8750000          Villa   188   \n",
       "\n",
       "   Squaremeter price Energy class   \n",
       "0              36250            E  \\\n",
       "1              39778            C   \n",
       "2              42280            D   \n",
       "3              51911            C   \n",
       "4              46542            D   \n",
       "\n",
       "                                                 Url  City  \n",
       "0  https://www.dingeo.dk/adresse/2800-kongens%20l...  2800  \n",
       "1  https://www.dingeo.dk/adresse/2800-kongens%20l...  2800  \n",
       "2  https://www.dingeo.dk/adresse/2800-kongens%20l...  2800  \n",
       "3  https://www.dingeo.dk/adresse/2800-kongens%20l...  2800  \n",
       "4  https://www.dingeo.dk/adresse/2800-kongens%20l...  2800  "
      ]
     },
     "execution_count": 22,
     "metadata": {},
     "output_type": "execute_result"
>>>>>>> 49805c2 (refaktoring)
    }
   ],
   "source": [
    "import pandas as pd\n",
    "from sklearn.ensemble import RandomForestRegressor\n",
    "from sklearn.model_selection import train_test_split\n",
    "from sklearn.preprocessing import LabelEncoder\n",
    "from sklearn.metrics import mean_squared_error, r2_score\n",
    "import joblib\n",
    "import locale\n",
    "\n",
    "cities = ['2800', '2820', '2830', '2840', '2850', '2900', '2920', '2930', '2942', '2950', '3000' '3460']\n",
    "dataframes = []\n",
    "\n",
    "for city in cities:\n",
    "    filename = f'./data/house_data/house_data_{city}.csv'\n",
    "    df = pd.read_csv(filename)\n",
    "    df[\"City\"] = int(city)\n",
    "    dataframes.append(df)\n",
    "data = pd.concat(dataframes, ignore_index=True)\n",
    "\n",
    "data.head(5)"
   ]
  },
  {
   "attachments": {},
   "cell_type": "markdown",
   "metadata": {},
   "source": [
    "# Step 2 - Data processing\n",
    "Any rows containing missing values are dropped using data.dropna(inplace=True)"
   ]
  },
  {
   "cell_type": "code",
<<<<<<< HEAD
   "execution_count": null,
=======
   "execution_count": 23,
>>>>>>> 49805c2 (refaktoring)
   "metadata": {},
   "outputs": [],
   "source": [
    "data.dropna(inplace=True)"
   ]
  },
  {
   "attachments": {},
   "cell_type": "markdown",
   "metadata": {},
   "source": [
    "# Step 3 - Feauture Selection\n",
    "Selecting the relevant features (variables) that we want to use for predicting the price. We exclude any columns that are not useful or not available during prediction."
   ]
  },
  {
   "cell_type": "code",
<<<<<<< HEAD
   "execution_count": null,
=======
   "execution_count": 24,
>>>>>>> 49805c2 (refaktoring)
   "metadata": {},
   "outputs": [],
   "source": [
    "features = ['X', 'Y', 'Size', 'Type', 'Energy class', 'City']\n",
    "target = 'Price'"
   ]
  },
  {
   "attachments": {},
   "cell_type": "markdown",
   "metadata": {},
   "source": [
    "# Step 4  - Preprocess and Split the data\n",
    "A dictionary called label_encoders is created to store the label encoders for categorical features. The code then iterates over each feature in features and checks if the feature's data type is 'object' (indicating a categorical feature - meaning non-numeric). If it is, a LabelEncoder is created for that feature, and the feature values in the data DataFrame are transformed using label_encoders[feature].fit_transform(data[feature]).\n",
    "\n",
    "Spliting the data into training and testing sets to evaluate the performance of your machine learning model. The training set will be used to train the model, and the testing set will be used to evaluate its performance."
   ]
  },
  {
   "cell_type": "code",
<<<<<<< HEAD
   "execution_count": null,
=======
   "execution_count": 25,
>>>>>>> 49805c2 (refaktoring)
   "metadata": {},
   "outputs": [
    {
     "name": "stdout",
     "output_type": "stream",
     "text": [
      "{'Type': LabelEncoder(), 'Energy class': LabelEncoder()}\n"
     ]
    }
   ],
   "source": [
    "# Preprocess the data\n",
    "label_encoders = {}\n",
    "for feature in features:\n",
    "    if data[feature].dtype == 'object':\n",
    "        label_encoders[feature] = LabelEncoder()\n",
    "        data[feature] = label_encoders[feature].fit_transform(data[feature])\n",
    "\n",
    "print(label_encoders)\n",
    "\n",
    "# Split the data into training and testing sets\n",
    "X_train, X_test, y_train, y_test = train_test_split(data[features], data[target], test_size=0.2, random_state=42)"
   ]
  },
  {
   "attachments": {},
   "cell_type": "markdown",
   "metadata": {},
   "source": [
    "# Step 5 - Train a model\n",
    "Choose a suitable machine learning algorithm for your task, such as linear regression, decision tree, or random forest. Train the model on the training data. \n",
    "The data DataFrame is split into training and testing sets using train_test_split. The training set (X_train, y_train) will be used to train the model, while the testing set (X_test, y_test) will be used for evaluation."
   ]
  },
  {
   "cell_type": "code",
<<<<<<< HEAD
   "execution_count": null,
=======
   "execution_count": 26,
>>>>>>> 49805c2 (refaktoring)
   "metadata": {},
   "outputs": [
    {
     "data": {
      "text/html": [
<<<<<<< HEAD
       "<style>#sk-container-id-14 {color: black;background-color: white;}#sk-container-id-14 pre{padding: 0;}#sk-container-id-14 div.sk-toggleable {background-color: white;}#sk-container-id-14 label.sk-toggleable__label {cursor: pointer;display: block;width: 100%;margin-bottom: 0;padding: 0.3em;box-sizing: border-box;text-align: center;}#sk-container-id-14 label.sk-toggleable__label-arrow:before {content: \"▸\";float: left;margin-right: 0.25em;color: #696969;}#sk-container-id-14 label.sk-toggleable__label-arrow:hover:before {color: black;}#sk-container-id-14 div.sk-estimator:hover label.sk-toggleable__label-arrow:before {color: black;}#sk-container-id-14 div.sk-toggleable__content {max-height: 0;max-width: 0;overflow: hidden;text-align: left;background-color: #f0f8ff;}#sk-container-id-14 div.sk-toggleable__content pre {margin: 0.2em;color: black;border-radius: 0.25em;background-color: #f0f8ff;}#sk-container-id-14 input.sk-toggleable__control:checked~div.sk-toggleable__content {max-height: 200px;max-width: 100%;overflow: auto;}#sk-container-id-14 input.sk-toggleable__control:checked~label.sk-toggleable__label-arrow:before {content: \"▾\";}#sk-container-id-14 div.sk-estimator input.sk-toggleable__control:checked~label.sk-toggleable__label {background-color: #d4ebff;}#sk-container-id-14 div.sk-label input.sk-toggleable__control:checked~label.sk-toggleable__label {background-color: #d4ebff;}#sk-container-id-14 input.sk-hidden--visually {border: 0;clip: rect(1px 1px 1px 1px);clip: rect(1px, 1px, 1px, 1px);height: 1px;margin: -1px;overflow: hidden;padding: 0;position: absolute;width: 1px;}#sk-container-id-14 div.sk-estimator {font-family: monospace;background-color: #f0f8ff;border: 1px dotted black;border-radius: 0.25em;box-sizing: border-box;margin-bottom: 0.5em;}#sk-container-id-14 div.sk-estimator:hover {background-color: #d4ebff;}#sk-container-id-14 div.sk-parallel-item::after {content: \"\";width: 100%;border-bottom: 1px solid gray;flex-grow: 1;}#sk-container-id-14 div.sk-label:hover label.sk-toggleable__label {background-color: #d4ebff;}#sk-container-id-14 div.sk-serial::before {content: \"\";position: absolute;border-left: 1px solid gray;box-sizing: border-box;top: 0;bottom: 0;left: 50%;z-index: 0;}#sk-container-id-14 div.sk-serial {display: flex;flex-direction: column;align-items: center;background-color: white;padding-right: 0.2em;padding-left: 0.2em;position: relative;}#sk-container-id-14 div.sk-item {position: relative;z-index: 1;}#sk-container-id-14 div.sk-parallel {display: flex;align-items: stretch;justify-content: center;background-color: white;position: relative;}#sk-container-id-14 div.sk-item::before, #sk-container-id-14 div.sk-parallel-item::before {content: \"\";position: absolute;border-left: 1px solid gray;box-sizing: border-box;top: 0;bottom: 0;left: 50%;z-index: -1;}#sk-container-id-14 div.sk-parallel-item {display: flex;flex-direction: column;z-index: 1;position: relative;background-color: white;}#sk-container-id-14 div.sk-parallel-item:first-child::after {align-self: flex-end;width: 50%;}#sk-container-id-14 div.sk-parallel-item:last-child::after {align-self: flex-start;width: 50%;}#sk-container-id-14 div.sk-parallel-item:only-child::after {width: 0;}#sk-container-id-14 div.sk-dashed-wrapped {border: 1px dashed gray;margin: 0 0.4em 0.5em 0.4em;box-sizing: border-box;padding-bottom: 0.4em;background-color: white;}#sk-container-id-14 div.sk-label label {font-family: monospace;font-weight: bold;display: inline-block;line-height: 1.2em;}#sk-container-id-14 div.sk-label-container {text-align: center;}#sk-container-id-14 div.sk-container {/* jupyter's `normalize.less` sets `[hidden] { display: none; }` but bootstrap.min.css set `[hidden] { display: none !important; }` so we also need the `!important` here to be able to override the default hidden behavior on the sphinx rendered scikit-learn.org. See: https://github.com/scikit-learn/scikit-learn/issues/21755 */display: inline-block !important;position: relative;}#sk-container-id-14 div.sk-text-repr-fallback {display: none;}</style><div id=\"sk-container-id-14\" class=\"sk-top-container\"><div class=\"sk-text-repr-fallback\"><pre>RandomForestRegressor(random_state=42)</pre><b>In a Jupyter environment, please rerun this cell to show the HTML representation or trust the notebook. <br />On GitHub, the HTML representation is unable to render, please try loading this page with nbviewer.org.</b></div><div class=\"sk-container\" hidden><div class=\"sk-item\"><div class=\"sk-estimator sk-toggleable\"><input class=\"sk-toggleable__control sk-hidden--visually\" id=\"sk-estimator-id-14\" type=\"checkbox\" checked><label for=\"sk-estimator-id-14\" class=\"sk-toggleable__label sk-toggleable__label-arrow\">RandomForestRegressor</label><div class=\"sk-toggleable__content\"><pre>RandomForestRegressor(random_state=42)</pre></div></div></div></div></div>"
=======
       "<style>#sk-container-id-3 {color: black;background-color: white;}#sk-container-id-3 pre{padding: 0;}#sk-container-id-3 div.sk-toggleable {background-color: white;}#sk-container-id-3 label.sk-toggleable__label {cursor: pointer;display: block;width: 100%;margin-bottom: 0;padding: 0.3em;box-sizing: border-box;text-align: center;}#sk-container-id-3 label.sk-toggleable__label-arrow:before {content: \"▸\";float: left;margin-right: 0.25em;color: #696969;}#sk-container-id-3 label.sk-toggleable__label-arrow:hover:before {color: black;}#sk-container-id-3 div.sk-estimator:hover label.sk-toggleable__label-arrow:before {color: black;}#sk-container-id-3 div.sk-toggleable__content {max-height: 0;max-width: 0;overflow: hidden;text-align: left;background-color: #f0f8ff;}#sk-container-id-3 div.sk-toggleable__content pre {margin: 0.2em;color: black;border-radius: 0.25em;background-color: #f0f8ff;}#sk-container-id-3 input.sk-toggleable__control:checked~div.sk-toggleable__content {max-height: 200px;max-width: 100%;overflow: auto;}#sk-container-id-3 input.sk-toggleable__control:checked~label.sk-toggleable__label-arrow:before {content: \"▾\";}#sk-container-id-3 div.sk-estimator input.sk-toggleable__control:checked~label.sk-toggleable__label {background-color: #d4ebff;}#sk-container-id-3 div.sk-label input.sk-toggleable__control:checked~label.sk-toggleable__label {background-color: #d4ebff;}#sk-container-id-3 input.sk-hidden--visually {border: 0;clip: rect(1px 1px 1px 1px);clip: rect(1px, 1px, 1px, 1px);height: 1px;margin: -1px;overflow: hidden;padding: 0;position: absolute;width: 1px;}#sk-container-id-3 div.sk-estimator {font-family: monospace;background-color: #f0f8ff;border: 1px dotted black;border-radius: 0.25em;box-sizing: border-box;margin-bottom: 0.5em;}#sk-container-id-3 div.sk-estimator:hover {background-color: #d4ebff;}#sk-container-id-3 div.sk-parallel-item::after {content: \"\";width: 100%;border-bottom: 1px solid gray;flex-grow: 1;}#sk-container-id-3 div.sk-label:hover label.sk-toggleable__label {background-color: #d4ebff;}#sk-container-id-3 div.sk-serial::before {content: \"\";position: absolute;border-left: 1px solid gray;box-sizing: border-box;top: 0;bottom: 0;left: 50%;z-index: 0;}#sk-container-id-3 div.sk-serial {display: flex;flex-direction: column;align-items: center;background-color: white;padding-right: 0.2em;padding-left: 0.2em;position: relative;}#sk-container-id-3 div.sk-item {position: relative;z-index: 1;}#sk-container-id-3 div.sk-parallel {display: flex;align-items: stretch;justify-content: center;background-color: white;position: relative;}#sk-container-id-3 div.sk-item::before, #sk-container-id-3 div.sk-parallel-item::before {content: \"\";position: absolute;border-left: 1px solid gray;box-sizing: border-box;top: 0;bottom: 0;left: 50%;z-index: -1;}#sk-container-id-3 div.sk-parallel-item {display: flex;flex-direction: column;z-index: 1;position: relative;background-color: white;}#sk-container-id-3 div.sk-parallel-item:first-child::after {align-self: flex-end;width: 50%;}#sk-container-id-3 div.sk-parallel-item:last-child::after {align-self: flex-start;width: 50%;}#sk-container-id-3 div.sk-parallel-item:only-child::after {width: 0;}#sk-container-id-3 div.sk-dashed-wrapped {border: 1px dashed gray;margin: 0 0.4em 0.5em 0.4em;box-sizing: border-box;padding-bottom: 0.4em;background-color: white;}#sk-container-id-3 div.sk-label label {font-family: monospace;font-weight: bold;display: inline-block;line-height: 1.2em;}#sk-container-id-3 div.sk-label-container {text-align: center;}#sk-container-id-3 div.sk-container {/* jupyter's `normalize.less` sets `[hidden] { display: none; }` but bootstrap.min.css set `[hidden] { display: none !important; }` so we also need the `!important` here to be able to override the default hidden behavior on the sphinx rendered scikit-learn.org. See: https://github.com/scikit-learn/scikit-learn/issues/21755 */display: inline-block !important;position: relative;}#sk-container-id-3 div.sk-text-repr-fallback {display: none;}</style><div id=\"sk-container-id-3\" class=\"sk-top-container\"><div class=\"sk-text-repr-fallback\"><pre>RandomForestRegressor(random_state=42)</pre><b>In a Jupyter environment, please rerun this cell to show the HTML representation or trust the notebook. <br />On GitHub, the HTML representation is unable to render, please try loading this page with nbviewer.org.</b></div><div class=\"sk-container\" hidden><div class=\"sk-item\"><div class=\"sk-estimator sk-toggleable\"><input class=\"sk-toggleable__control sk-hidden--visually\" id=\"sk-estimator-id-3\" type=\"checkbox\" checked><label for=\"sk-estimator-id-3\" class=\"sk-toggleable__label sk-toggleable__label-arrow\">RandomForestRegressor</label><div class=\"sk-toggleable__content\"><pre>RandomForestRegressor(random_state=42)</pre></div></div></div></div></div>"
>>>>>>> 49805c2 (refaktoring)
      ],
      "text/plain": [
       "RandomForestRegressor(random_state=42)"
      ]
     },
<<<<<<< HEAD
     "execution_count": 129,
=======
     "execution_count": 26,
>>>>>>> 49805c2 (refaktoring)
     "metadata": {},
     "output_type": "execute_result"
    }
   ],
   "source": [
    "# Train the random forest model\n",
    "model = RandomForestRegressor(n_estimators=100, random_state=42)\n",
    "model.fit(X_train, y_train)"
   ]
  },
  {
   "attachments": {},
   "cell_type": "markdown",
   "metadata": {},
   "source": [
    "# Saving the model for later use"
   ]
  },
  {
   "cell_type": "code",
<<<<<<< HEAD
   "execution_count": null,
=======
   "execution_count": 27,
>>>>>>> 49805c2 (refaktoring)
   "metadata": {},
   "outputs": [
    {
     "data": {
      "text/plain": [
       "['RFG_Model']"
      ]
     },
     "execution_count": 130,
     "metadata": {},
     "output_type": "execute_result"
    }
   ],
   "source": [
    "#joblib.dump(model, 'RFG_Model')"
   ]
  },
  {
   "attachments": {},
   "cell_type": "markdown",
   "metadata": {},
   "source": [
    "# Step 6 - Evaluate the model\n",
    "The code calculates the coefficient of determination (R2 score) between the predicted and actual prices using r2_score(y_test, y_pred). The R2 score indicates how well the model fits the data. The R2 score is a statistical measure that ranges from 0 to 1. A score of 0 means that the model fails to explain any of the variability in the target variable, while a score of 1 indicates that the model perfectly predicts the target variable.\n",
    "\n",
    "Therefore, an R2 score of 0.730780767260184 suggests that the model is performing reasonably well in explaining and predicting house prices, capturing about 73.08% of the patterns and trends in the data. However, it also means that there is still a portion (approximately 26.92%) of the variability in house prices that is not captured by the model. This could be bettered by adding house features such as ground size,  number of floors, has basement?, near ocean?, near highway?, noise in the area etc..."
   ]
  },
  {
   "cell_type": "code",
<<<<<<< HEAD
   "execution_count": null,
=======
   "execution_count": 28,
>>>>>>> 49805c2 (refaktoring)
   "metadata": {},
   "outputs": [
    {
     "name": "stdout",
     "output_type": "stream",
     "text": [
<<<<<<< HEAD
      "R2-score 0.8234751822852272\n"
=======
      "R2-score 0.8765924018281193\n"
>>>>>>> 49805c2 (refaktoring)
     ]
    }
   ],
   "source": [
    "# Make predictions on the test set\n",
    "y_pred = model.predict(X_test)\n",
    "\n",
    "# Evaluate the model\n",
    "r2 = r2_score(y_test, y_pred)\n",
    "print(f\"R2-score {r2}\")\n",
    "\n",
    "# mse = mean_squared_error(y_test, y_pred)\n",
    "# rmse = mse**0.5\n",
    "# print(f\"Root Mean Squared Error (RMSE): {rmse}\")"
   ]
  },
  {
   "attachments": {},
   "cell_type": "markdown",
   "metadata": {},
   "source": [
    "# Step 7 - Make predictions\n",
    "The code iterates over each feature in the features list. For each feature, it checks if the data type of the corresponding value in the new_house DataFrame is 'object'. If it is, it means the feature is categorical (non-numeric value) and needs to be label encoded. The label encoder converts the categorical value into a numerical representation based on the encoding it learned during training.\n",
    "\n",
    "After label encoding all the categorical features in the new_house DataFrame, we let the model make a prediction for the price of the new house using the model.predict() function. It passes the new_house DataFrame as the input to the model."
   ]
  },
  {
   "cell_type": "code",
<<<<<<< HEAD
   "execution_count": null,
=======
   "execution_count": 29,
>>>>>>> 49805c2 (refaktoring)
   "metadata": {},
   "outputs": [
    {
     "name": "stdout",
     "output_type": "stream",
     "text": [
<<<<<<< HEAD
      "Predicted price for the house: kr 3.816.905,00\n"
=======
      "Predicted price for the house: kr 1.860.050,00\n"
>>>>>>> 49805c2 (refaktoring)
     ]
    }
   ],
   "source": [
    "# Apply label encoding to the new house data \n",
    "new_house = pd.DataFrame([[56.034845, 12.591295, 68, 'Ejerlejlighed', 'D', 3000]], columns=features)\n",
    "for feature in features:\n",
    "    if new_house[feature].dtype == 'object':\n",
    "        new_house[feature] = label_encoders[feature].transform(new_house[feature])\n",
    "        \n",
    "# Example prediction for a new house\n",
    "predicted_price = model.predict(new_house)\n",
    "locale.setlocale(locale.LC_ALL, 'da_DK.UTF-8')\n",
    "formatted_price = locale.currency(predicted_price[0], grouping=True)\n",
    "print(f\"Predicted price for the house: {formatted_price}\")"
   ]
  },
  {
   "attachments": {},
   "cell_type": "markdown",
   "metadata": {},
   "source": [
    "## Other visualizations"
   ]
  },
  {
   "cell_type": "code",
<<<<<<< HEAD
   "execution_count": null,
=======
   "execution_count": 30,
>>>>>>> 49805c2 (refaktoring)
   "metadata": {},
   "outputs": [
    {
     "data": {
<<<<<<< HEAD
      "image/png": "iVBORw0KGgoAAAANSUhEUgAAAm0AAAGdCAYAAABAcUQ6AAAAOXRFWHRTb2Z0d2FyZQBNYXRwbG90bGliIHZlcnNpb24zLjcuMSwgaHR0cHM6Ly9tYXRwbG90bGliLm9yZy/bCgiHAAAACXBIWXMAAA9hAAAPYQGoP6dpAAAmnUlEQVR4nO3de1TUdf7H8dcAMshlQEsFc/KSkuSlSBcPWKmtSuYxXW2p3XRFcaMVO6tlJaahWcKa53Rbs8sq2m3JXPO4WwtubLYb6aImpXhJCZQ2tE0TvPx2VPj+/ug0ZwlUhssMn3g+zvmeozPf+c77IynPvjPfwWZZliUAAAC0an6+HgAAAACXR7QBAAAYgGgDAAAwANEGAABgAKINAADAAEQbAACAAYg2AAAAAxBtAAAABgjw9QBomJqaGn311VcKCwuTzWbz9TgAAKABLMvSqVOn1LVrV/n5Ne1cGdFmiK+++kpOp9PXYwAAgEYoLy9Xt27dmnQMos0QYWFhkr77ojscDh9PAwAAGqKqqkpOp9P9fbwpiDZDfP+SqMPhINoAADBMc7y1iQsRAAAADEC0AQAAGIBoAwAAMADRBgAAYACiDQAAwABEGwAAgAGINgAAAAMQbQAAAAYg2gAAAAxAtAEAABiAaAMAADAA0QYAAGAAfmC8Yfpn5MnPHuzrMQAA+NEoyxrr6xEahDNtAAAABiDaAAAADEC0AQAAGIBoAwAAMADRBgAAYACiDQAAwABEGwAAgAGINgAAAAMQbQAAAAYg2prAZrNp48aNvh4DAAC0AUTbJfznP//Rb37zG1199dWy2+2KjIxUYmKiCgoKJEkVFRUaM2aMj6cEAABtAT979BImTZqkc+fOae3aterVq5eOHTum/Px8HT9+XJIUGRnp4wkBAEBbwZm2izh58qT++c9/6ne/+51GjBih7t27Ky4uTunp6brjjjsk1X55dNGiRbLZbHW2NWvWSJJqamqUmZmpnj17qn379rr++uu1fv16H60OAACYhmi7iNDQUIWGhmrjxo1yuVyX3X/u3LmqqKhwb8uXL1dwcLAGDx4sScrMzNSrr76qF198UcXFxZozZ44mT56sDz/8sN7juVwuVVVV1doAAEDbRbRdREBAgNasWaO1a9cqIiJCQ4cO1fz58/XZZ5/Vu39oaKgiIyMVGRmpsrIyLViwQNnZ2erfv79cLpeWLl2q1atXKzExUb169VJycrImT56sl156qd7jZWZmKjw83L05nc6WXC4AAGjliLZLmDRpkr766itt2rRJt912m7Zs2aIbb7zR/ZJnfY4cOaIJEyZo7ty5SkpKkiQdOnRIZ8+e1ahRo9xn8EJDQ/Xqq6+qpKSk3uOkp6ersrLSvZWXl7fEEgEAgCG4EOEygoKCNGrUKI0aNUoLFy7UjBkzlJGRoeTk5Dr7njlzRnfccYfi4+P1+OOPu28/ffq0JOndd9/VVVddVesxdru93ue12+0XvQ8AALQ9RJuHrrvuuno/m82yLE2ePFk1NTV67bXXZLPZaj3GbrfryJEjGjZsmBenBQAAPxZE20UcP35cP//5zzV9+nQNHDhQYWFh2rFjh5YtW6bx48fX2X/RokV6//33tXnzZp0+fdp9di08PFxhYWGaO3eu5syZo5qaGt10002qrKxUQUGBHA6Hpk6d6u3lAQAAwxBtFxEaGqohQ4bo6aefVklJic6fPy+n06lf//rXmj9/fp39P/zwQ50+fVoJCQm1bs/OzlZycrKWLFmiTp06KTMzU1988YUiIiJ044031nssAACAH7JZlmX5eghcXlVV1XdXkc5eJz97sK/HAQDgR6Msa2yLHfv779+VlZVyOBxNOhZXjwIAABiAaAMAADAA0QYAAGAAog0AAMAARBsAAIABiDYAAAADEG0AAAAGINoAAAAMQLQBAAAYgB9jZZg9ixOb/InKAADAPJxpAwAAMADRBgAAYACiDQAAwABEGwAAgAGINgAAAAMQbQAAAAYg2gAAAAxAtAEAABiAaAMAADAA0QYAAGAAog0AAMAARBsAAIABiDYAAAADEG0AAAAGINoAAAAMQLQBAAAYgGgDAAAwANEGAABgAKINAADAAEQbAACAAYg2AAAAAxBtAAAABiDaAAAADEC0AQAAGIBoAwAAMADRBgAAYACiDQAAwABEGwAAgAGINgAAAAMQbQAAAAYI8PUA8Ez/jDz52YN9PYaxyrLG+noEAAAahTNtAAAABiDaAAAADEC0AQAAGIBoAwAAMADRBgAAYACiDQAAwABEGwAAgAGINgAAAAMQbQAAAAYg2gAAAAxAtHmBZVkaOXKkEhMT69z3wgsvKCIiQl9++aUPJgMAAKYg2rzAZrMpOztb//rXv/TSSy+5by8tLdXDDz+s559/Xt26dfPhhAAAoLUj2rzE6XTq2Wef1dy5c1VaWirLspSSkqLRo0drypQpvh4PAAC0cgG+HqAtmTp1qt555x1Nnz5dEydO1J49e1RcXFzvvi6XSy6Xy/37qqoqb40JAABaIaLNy15++WX169dP//jHP/SnP/1JnTp1qne/zMxMLV682MvTAQCA1oqXR72sc+fOSk1NVUxMjCZMmHDR/dLT01VZWeneysvLvTckAABodTjT5gMBAQEKCLj0H73dbpfdbvfSRAAAoLXjTBsAAIABiDYAAAADEG0AAAAGINp8YNGiRSoqKvL1GAAAwCBEGwAAgAGINgAAAAMQbQAAAAYg2gAAAAxAtAEAABiAaAMAADAA0QYAAGAAog0AAMAA/MB4w+xZnCiHw+HrMQAAgJdxpg0AAMAARBsAAIABiDYAAAADEG0AAAAGINoAAAAMQLQBAAAYgGgDAAAwANEGAABgAKINAADAAEQbAACAAYg2AAAAAxBtAAAABiDaAAAADEC0AQAAGIBoAwAAMADRBgAAYACiDQAAwABEGwAAgAGINgAAAAMQbQAAAAYg2gAAAAxAtAEAABiAaAMAADAA0QYAAGAAog0AAMAARBsAAIABiDYAAAADEG0AAAAGINoAAAAMQLQBAAAYIMDXA8Az/TPy5GcP9tnzl2WN9dlzAwDQlnGmDQAAwABEGwAAgAGINgAAAAMQbQAAAAYg2gAAAAxAtAEAABiAaAMAADAA0QYAAGAAog0AAMAARBsAAIABiDYAAAADEG0trLq6WgkJCZo4cWKt2ysrK+V0OvXoo4/6aDIAAGASoq2F+fv7a82aNcrNzdUbb7zhvv3+++9Xx44dlZGR4cPpAACAKQJ8PUBbEB0draysLN1///269dZbVVhYqJycHG3fvl2BgYG+Hg8AABiAaPOS+++/X++8846mTJmi3bt367HHHtP1119/0f1dLpdcLpf791VVVd4YEwAAtFK8POolNptNK1euVH5+vrp06aJ58+Zdcv/MzEyFh4e7N6fT6aVJAQBAa0S0edHq1asVHBys0tJSffnll5fcNz09XZWVle6tvLzcS1MCAIDWiGjzko8//lhPP/20/vKXvyguLk4pKSmyLOui+9vtdjkcjlobAABou4g2Lzh79qySk5P1m9/8RiNGjNCqVatUWFioF1980dejAQAAQxBtXpCeni7LspSVlSVJ6tGjh5YvX66HH35YZWVlvh0OAAAYgWhrYR9++KFWrFih7OxsBQcHu29PTU1VQkLCZV8mBQAAkPjIjxY3bNgwXbhwod778vLyvDwNAAAwFWfaAAAADEC0AQAAGIBoAwAAMADRBgAAYACiDQAAwABEGwAAgAGINgAAAAMQbQAAAAbgw3UNs2dxIj88HgCANogzbQAAAAYg2gAAAAxAtAEAABiAaAMAADAA0QYAAGAAog0AAMAARBsAAIABiDYAAAADEG0AAAAGINoAAAAMQLQBAAAYgGgDAAAwANEGAABgAKINAADAAEQbAACAAYg2AAAAAxBtAAAABiDaAAAADEC0AQAAGIBoAwAAMADRBgAAYACiDQAAwABEGwAAgAGINgAAAAMQbQAAAAYg2gAAAAxAtAEAABiAaAMAADAA0QYAAGAAog0AAMAAAb4eAJ7pn5EnP3twk45RljW2maYBAADewpk2AAAAAxBtAAAABiDaAAAADEC0AQAAGIBoAwAAMADRBgAAYACiDQAAwABEGwAAgAGINgAAAAMQbZdQVlYmm82moqIiX48CAADaOI+iLTk5WTabrc522223tdR8AAAAUCN+9uhtt92m7OzsWrfZ7fZmG6g+586dU2BgYIs+BwAAQGvm8cujdrtdkZGRtbYOHTq477fZbPrDH/6gn/3sZwoODlafPn20adOmWsfYs2ePxowZo9DQUHXp0kVTpkzRN998475/+PDhmjVrlmbPnq0rr7xSiYmJkqRNmzapT58+CgoK0ogRI7R27VrZbDadPHlSZ86ckcPh0Pr162s918aNGxUSEqJTp07Vu56amhotW7ZMvXv3lt1u19VXX60nn3yy3n2rq6uVkpKinj17qn379rr22mv17LPP1tpny5YtiouLU0hIiCIiIjR06FAdPnxYkvTpp59qxIgRCgsLk8Ph0KBBg7Rjx44G/skDAIC2rEXe07Z48WIlJSXps88+0+2336577rlHJ06ckCSdPHlSt956q2JjY7Vjxw7l5ubq2LFjSkpKqnWMtWvXKjAwUAUFBXrxxRdVWlqqO++8UxMmTNCnn36q1NRUPfroo+79Q0JCdPfdd9c5C5idna0777xTYWFh9c6anp6urKwsLVy4UHv37tWbb76pLl261LtvTU2NunXrprffflt79+7VY489pvnz52vdunWSpAsXLmjChAkaNmyYPvvsM23dulX33nuvbDabJOmee+5Rt27dtH37du3cuVPz5s1Tu3bt6n0ul8ulqqqqWhsAAGi7bJZlWQ3dOTk5Wa+//rqCgoJq3T5//nzNnz//uwPabFqwYIGWLFkiSTpz5oxCQ0P117/+VbfddpueeOIJ/fOf/1ReXp778V9++aWcTqcOHDig6OhoDR8+XFVVVfrkk0/c+8ybN0/vvvuudu/e7b5twYIFevLJJ/Xtt98qIiJChYWFSkhIUHl5uaKiovT111/rqquu0vvvv69hw4bVWc+pU6fUqVMn/f73v9eMGTPq3F9WVqaePXtq165duuGGG+r9M5k1a5aOHj2q9evX68SJE7riiiu0ZcuWep/P4XDo+eef19SpUy/xp/ydRYsWafHixXVud85eJz978GUffyllWWOb9HgAANAwVVVVCg8PV2VlpRwOR5OO5fGZthEjRqioqKjWdt9999XaZ+DAge5fh4SEyOFw6Ouvv5b03UuEH3zwgUJDQ91b3759JUklJSXuxw0aNKjWMQ8cOKCf/OQntW6Li4ur8/t+/fpp7dq1kqTXX39d3bt31y233FLvWvbt2yeXy6Wf/vSnDV7/ihUrNGjQIHXq1EmhoaF6+eWXdeTIEUlSx44dlZycrMTERI0bN07PPvusKioq3I994IEHNGPGDI0cOVJZWVm11vtD6enpqqysdG/l5eUNnhEAAPz4eBxtISEh6t27d62tY8eOtfb54Ut+NptNNTU1kqTTp09r3LhxdcLv4MGDteIqJCSkMevRjBkztGbNGknfvTQ6bdo098uTP9S+fXuPjp2Tk6O5c+cqJSVFmzdvVlFRkaZNm6Zz586598nOztbWrVuVkJCgt956S9HR0dq2bZuk786eFRcXa+zYsfr73/+u6667Tu+88069z2W32+VwOGptAACg7fL657TdeOONKi4uVo8ePerE36VC7dprr63zpv3t27fX2W/y5Mk6fPiwnnvuOe3du/eSL0X26dNH7du3V35+foNmLygoUEJCgmbOnKnY2Fj17t273rNlsbGxSk9P18cff6z+/fvrzTffdN8XHR2tOXPmaPPmzZo4cWKd9+ABAADUx+Noc7lcOnr0aK3tf6/8vJy0tDSdOHFCv/jFL7R9+3aVlJQoLy9P06ZNU3V19UUfl5qaqv379+uRRx7R559/rnXr1rnPqP3vmbQOHTpo4sSJeuihhzR69Gh169btoscMCgrSI488oocfflivvvqqSkpKtG3bNq1atare/fv06aMdO3YoLy9Pn3/+uRYuXFgrHEtLS5Wenq6tW7fq8OHD2rx5sw4ePKiYmBj93//9n2bNmqUtW7bo8OHDKigo0Pbt2xUTE9PgPzsAANB2eRxtubm5ioqKqrXddNNNDX58165dVVBQoOrqao0ePVoDBgzQ7NmzFRERIT+/i4/Ts2dPrV+/Xhs2bNDAgQO1cuVK99WjP/ycuJSUFJ07d07Tp0+/7DwLFy7Ugw8+qMcee0wxMTG666673O+/+6HU1FRNnDhRd911l4YMGaLjx49r5syZ7vuDg4O1f/9+TZo0SdHR0br33nuVlpam1NRU+fv76/jx4/rVr36l6OhoJSUlacyYMfVebAAAAPBDHl092to8+eSTevHFF+u8Sf+1117TnDlz9NVXX/1oPpT3+6tPuHoUAABzNOfVox7/RARfeuGFF/STn/xEV1xxhQoKCvTUU09p1qxZ7vvPnj2riooKZWVlKTU19UcTbAAAAEb9wPiDBw9q/Pjxuu6667RkyRI9+OCDWrRokfv+ZcuWqW/fvoqMjFR6errvBgUAAGhmRr882pbw8igAAObx6YfrAgAAwPuINgAAAAMQbQAAAAYg2gAAAAxAtAEAABiAaAMAADCAUR+uC2nP4sQmXzIMAADMw5k2AAAAAxBtAAAABiDaAAAADEC0AQAAGIBoAwAAMADRBgAAYACiDQAAwABEGwAAgAGINgAAAAMQbQAAAAYg2gAAAAxAtAEAABiAaAMAADAA0QYAAGAAog0AAMAARBsAAIABiDYAAAADEG0AAAAGINoAAAAMQLQBAAAYgGgDAAAwANEGAABgAKINAADAAEQbAACAAYg2AAAAAxBtAAAABiDaAAAADEC0AQAAGIBoAwAAMECArweAZ/pn5MnPHnzJfcqyxnppGgAA4C2caQMAADAA0QYAAGAAog0AAMAARBsAAIABiDYAAAADEG0AAAAGINoAAAAMQLQBAAAYgGgDAAAwANEGAABgAKKtGdhsNm3cuNHXYwAAgB8xoq0Bjh49qvvvv1+9evWS3W6X0+nUuHHjlJ+fL0mqqKjQmDFjJEllZWWy2WwqKiry4cQAAODHhh8YfxllZWUaOnSoIiIi9NRTT2nAgAE6f/688vLylJaWpv379ysyMtLXYwIAgB85zrRdxsyZM2Wz2VRYWKhJkyYpOjpa/fr10wMPPKBt27ZJqv3yaM+ePSVJsbGxstlsGj58uP7xj3+oXbt2Onr0aK1jz549WzfffLNX1wMAAMxEtF3CiRMnlJubq7S0NIWEhNS5PyIios5thYWFkqT3339fFRUV2rBhg2655Rb16tVLr732mnu/8+fP64033tD06dPrfW6Xy6WqqqpaGwAAaLuItks4dOiQLMtS3759G/yYTp06SZKuuOIKRUZGqmPHjpKklJQUZWdnu/f785//rP/+979KSkqq9ziZmZkKDw93b06nswkrAQAApiPaLsGyrGY7VnJysg4dOuR+SXXNmjVKSkqq9wyeJKWnp6uystK9lZeXN9ssAADAPFyIcAl9+vSRzWbT/v37m3yszp07a9y4ccrOzlbPnj3117/+VVu2bLno/na7XXa7vcnPCwAAfhw403YJHTt2VGJiolasWKEzZ87Uuf/kyZN1bgsMDJQkVVdX17lvxowZeuutt/Tyyy/rmmuu0dChQ5t9ZgAA8ONEtF3GihUrVF1drbi4OP3pT3/SwYMHtW/fPj333HOKj4+vs3/nzp3Vvn175ebm6tixY6qsrHTfl5iYKIfDoSeeeELTpk3z5jIAAIDhiLbL6NWrlz755BONGDFCDz74oPr3769Ro0YpPz9fK1eurLN/QECAnnvuOb300kvq2rWrxo8f777Pz89PycnJqq6u1q9+9StvLgMAABjOZjXnu+1xWSkpKfrPf/6jTZs2efS4qqqq764inb1OfvbgS+5bljW2KSMCAIBm8v3378rKSjkcjiYdiwsRvKSyslK7d+/Wm2++6XGwAQAAEG1eMn78eBUWFuq+++7TqFGjfD0OAAAwDNHmJZf6eA8AAIDL4UIEAAAAAxBtAAAABiDaAAAADEC0AQAAGIBoAwAAMABXjxpmz+LEJn84HwAAMA9n2gAAAAxAtAEAABiAaAMAADAA0QYAAGAAog0AAMAARBsAAIABiDYAAAADEG0AAAAGINoAAAAMQLQBAAAYgGgDAAAwANEGAABgAKINAADAAEQbAACAAYg2AAAAAxBtAAAABiDaAAAADEC0AQAAGIBoAwAAMADRBgAAYACiDQAAwABEGwAAgAGINgAAAAMQbQAAAAYg2gAAAAxAtAEAABiAaAMAADAA0QYAAGAAog0AAMAARBsAAIABAnw9ADzTPyNPfvZgSVJZ1lgfTwMAALyFM20AAAAGINoAAAAMQLQBAAAYgGgDAAAwANEGAABgAKINAADAAEQbAACAAYg2AAAAAxBtAAAABiDaAAAADEC0SbLZbJfcFi1a5OsRAQBAG8fPHpVUUVHh/vVbb72lxx57TAcOHHDfFhoa6ouxAAAA3DjTJikyMtK9hYeHy2azKTIyUmFhYYqOjlZubm6t/Tdu3KiQkBCdOnVKZWVlstlsysnJUUJCgoKCgtS/f399+OGHtR6zZ88ejRkzRqGhoerSpYumTJmib775xpvLBAAABiPaLiEkJER33323srOza92enZ2tO++8U2FhYe7bHnroIT344IPatWuX4uPjNW7cOB0/flySdPLkSd16662KjY3Vjh07lJubq2PHjikpKemiz+1yuVRVVVVrAwAAbRfRdhkzZsxQXl6e+yXUr7/+Wu+9956mT59ea79Zs2Zp0qRJiomJ0cqVKxUeHq5Vq1ZJkn7/+98rNjZWS5cuVd++fRUbG6vVq1frgw8+0Oeff17v82ZmZio8PNy9OZ3Oll0oAABo1Yi2y4iLi1O/fv20du1aSdLrr7+u7t2765Zbbqm1X3x8vPvXAQEBGjx4sPbt2ydJ+vTTT/XBBx8oNDTUvfXt21eSVFJSUu/zpqenq7Ky0r2Vl5e3xPIAAIAhuBChAWbMmKEVK1Zo3rx5ys7O1rRp02Sz2Rr8+NOnT2vcuHH63e9+V+e+qKioeh9jt9tlt9sbPTMAAPhx4UxbA0yePFmHDx/Wc889p71792rq1Kl19tm2bZv71xcuXNDOnTsVExMjSbrxxhtVXFysHj16qHfv3rW2kJAQr60DAACYi2hrgA4dOmjixIl66KGHNHr0aHXr1q3OPitWrNA777yj/fv3Ky0tTd9++637fW9paWk6ceKEfvGLX2j79u0qKSlRXl6epk2bpurqam8vBwAAGIhoa6CUlBSdO3euzgUI38vKylJWVpauv/56ffTRR9q0aZOuvPJKSVLXrl1VUFCg6upqjR49WgMGDNDs2bMVEREhPz++BAAA4PJ4T9sPJCcnKzk5uc7t//73v3XFFVdo/Pjx9T4uJiZG//rXvy563D59+mjDhg3NNSYAAGhjiLbLOHv2rCoqKpSVlaXU1FQFBgb6eiQAANAG8drcZSxbtkx9+/ZVZGSk0tPTfT0OAABoo2yWZVm+HgKXV1VV9d2H7M5eJz97sCSpLGusj6cCAACX8v3378rKSjkcjiYdizNtAAAABiDaAAAADEC0AQAAGIBoAwAAMADRBgAAYACiDQAAwAB8uK5h9ixObPIlwwAAwDycaQMAADAA0QYAAGAAog0AAMAARBsAAIABiDYAAAADEG0AAAAGINoAAAAMQLQBAAAYgGgDAAAwANEGAABgAKINAADAAEQbAACAAYg2AAAAAwT4egA0jGVZkqSqqiofTwIAABrq++/b338fbwqizRDHjx+XJDmdTh9PAgAAPHXq1CmFh4c36RhEmyE6duwoSTpy5EiTv+gmqaqqktPpVHl5uRwOh6/H8Zq2uO62uGaJdbeldbfFNUus+8iRI7LZbOratWuTj0m0GcLP77u3H4aHh7ep/+i/53A4WHcb0RbXLLHutqQtrllqu+tuzu/bXIgAAABgAKINAADAAESbIex2uzIyMmS32309ilex7raz7ra4Zol1t6V1t8U1S6y7Oddts5rjGlQAAAC0KM60AQAAGIBoAwAAMADRBgAAYACiDQAAwABEWyuyYsUK9ejRQ0FBQRoyZIgKCwsvuf/bb7+tvn37KigoSAMGDNB7773npUmblyfrLi4u1qRJk9SjRw/ZbDY988wz3hu0GXmy5ldeeUU333yzOnTooA4dOmjkyJGX/W+jtfJk3Rs2bNDgwYMVERGhkJAQ3XDDDXrttde8OG3z8fTv9vdycnJks9k0YcKElh2whXiy7jVr1shms9XagoKCvDht8/D0a33y5EmlpaUpKipKdrtd0dHRRv5b7sm6hw8fXudrbbPZNHbsWC9O3Dw8/Xo/88wzuvbaa9W+fXs5nU7NmTNH//3vfxv+hBZahZycHCswMNBavXq1VVxcbP3617+2IiIirGPHjtW7f0FBgeXv728tW7bM2rt3r7VgwQKrXbt21u7du708edN4uu7CwkJr7ty51h//+EcrMjLSevrpp707cDPwdM2//OUvrRUrVli7du2y9u3bZyUnJ1vh4eHWl19+6eXJm8bTdX/wwQfWhg0brL1791qHDh2ynnnmGcvf39/Kzc318uRN4+m6v1daWmpdddVV1s0332yNHz/eO8M2I0/XnZ2dbTkcDquiosK9HT161MtTN42na3a5XNbgwYOt22+/3froo4+s0tJSa8uWLVZRUZGXJ28aT9d9/PjxWl/nPXv2WP7+/lZ2drZ3B28iT9f9xhtvWHa73XrjjTes0tJSKy8vz4qKirLmzJnT4Ock2lqJuLg4Ky0tzf376upqq2vXrlZmZma9+yclJVljx46tdduQIUOs1NTUFp2zuXm67v/VvXt3I6OtKWu2LMu6cOGCFRYWZq1du7alRmwRTV23ZVlWbGystWDBgpYYr8U0Zt0XLlywEhISrD/84Q/W1KlTjYw2T9ednZ1thYeHe2m6luHpmleuXGn16tXLOnfunLdGbBFN/bv99NNPW2FhYdbp06dbasQW4em609LSrFtvvbXWbQ888IA1dOjQBj8nL4+2AufOndPOnTs1cuRI921+fn4aOXKktm7dWu9jtm7dWmt/SUpMTLzo/q1RY9ZtuuZY89mzZ3X+/Hl17NixpcZsdk1dt2VZys/P14EDB3TLLbe05KjNqrHrfvzxx9W5c2elpKR4Y8xm19h1nz59Wt27d5fT6dT48eNVXFzsjXGbRWPWvGnTJsXHxystLU1dunRR//79tXTpUlVXV3tr7CZrjn/TVq1apbvvvlshISEtNWaza8y6ExIStHPnTvdLqF988YXee+893X777Q1+Xn5gfCvwzTffqLq6Wl26dKl1e5cuXbR///56H3P06NF69z969GiLzdncGrNu0zXHmh955BF17dq1TrS3Zo1dd2Vlpa666iq5XC75+/vrhRde0KhRo1p63GbTmHV/9NFHWrVqlYqKirwwYctozLqvvfZarV69WgMHDlRlZaWWL1+uhIQEFRcXq1u3bt4Yu0kas+YvvvhCf//733XPPffovffe06FDhzRz5kydP39eGRkZ3hi7yZr6b1phYaH27NmjVatWtdSILaIx6/7lL3+pb775RjfddJMsy9KFCxd03333af78+Q1+XqINMEhWVpZycnK0ZcsWI9+k7amwsDAVFRXp9OnTys/P1wMPPKBevXpp+PDhvh6tRZw6dUpTpkzRK6+8oiuvvNLX43hVfHy84uPj3b9PSEhQTEyMXnrpJS1ZssSHk7Wcmpoade7cWS+//LL8/f01aNAg/fvf/9ZTTz1lTLQ11apVqzRgwADFxcX5epQWt2XLFi1dulQvvPCChgwZokOHDum3v/2tlixZooULFzboGERbK3DllVfK399fx44dq3X7sWPHFBkZWe9jIiMjPdq/NWrMuk3XlDUvX75cWVlZev/99zVw4MCWHLPZNXbdfn5+6t27tyTphhtu0L59+5SZmWlMtHm67pKSEpWVlWncuHHu22pqaiRJAQEBOnDggK655pqWHboZNMff7Xbt2ik2NlaHDh1qiRGbXWPWHBUVpXbt2snf3999W0xMjI4ePapz584pMDCwRWduDk35Wp85c0Y5OTl6/PHHW3LEFtGYdS9cuFBTpkzRjBkzJEkDBgzQmTNndO+99+rRRx+Vn9/l37HGe9pagcDAQA0aNEj5+fnu22pqapSfn1/r/zz/V3x8fK39Jelvf/vbRfdvjRqzbtM1ds3Lli3TkiVLlJubq8GDB3tj1GbVXF/rmpoauVyulhixRXi67r59+2r37t0qKipyb3fccYdGjBihoqIiOZ1Ob47faM3x9a6urtbu3bsVFRXVUmM2q8aseejQoTp06JA7zCXp888/V1RUlBHBJjXta/3222/L5XJp8uTJLT1ms2vMus+ePVsnzL4PdquhPwa+ERdMoAXk5ORYdrvdWrNmjbV3717r3nvvtSIiItyXvE+ZMsWaN2+ee/+CggIrICDAWr58ubVv3z4rIyPD2I/88GTdLpfL2rVrl7Vr1y4rKirKmjt3rrVr1y7r4MGDvlqCxzxdc1ZWlhUYGGitX7++1mXyp06d8tUSGsXTdS9dutTavHmzVVJSYu3du9davny5FRAQYL3yyiu+WkKjeLruHzL16lFP17148WIrLy/PKikpsXbu3GndfffdVlBQkFVcXOyrJXjM0zUfOXLECgsLs2bNmmUdOHDA+stf/mJ17tzZeuKJJ3y1hEZp7H/jN910k3XXXXd5e9xm4+m6MzIyrLCwMOuPf/yj9cUXX1ibN2+2rrnmGispKanBz0m0tSLPP/+8dfXVV1uBgYFWXFyctW3bNvd9w4YNs6ZOnVpr/3Xr1lnR0dFWYGCg1a9fP+vdd9/18sTNw5N1l5aWWpLqbMOGDfP+4E3gyZq7d+9e75ozMjK8P3gTebLuRx991Ordu7cVFBRkdejQwYqPj7dycnJ8MHXTefp3+3+ZGm2W5dm6Z8+e7d63S5cu1u2332598sknPpi6aTz9Wn/88cfWkCFDLLvdbvXq1ct68sknrQsXLnh56qbzdN379++3JFmbN2/28qTNy5N1nz9/3lq0aJF1zTXXWEFBQZbT6bRmzpxpffvttw1+PptlNfScHAAAAHyF97QBAAAYgGgDAAAwANEGAABgAKINAADAAEQbAACAAYg2AAAAAxBtAAAABiDaAAAADEC0AQAAGIBoAwAAMADRBgAAYACiDQAAwAD/D3t5yo+f73NDAAAAAElFTkSuQmCC",
=======
      "image/png": "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",
>>>>>>> 49805c2 (refaktoring)
      "text/plain": [
       "<Figure size 640x480 with 1 Axes>"
      ]
     },
     "metadata": {},
     "output_type": "display_data"
    }
   ],
   "source": [
    "# Values that are used for the prediction based on importance for the model\n",
    "model_ranks = pd.Series(model.feature_importances_, index=X_train.columns, name=\"Importance\").sort_values()\n",
    "ax = model_ranks.plot(kind=\"barh\")"
   ]
  }
 ],
 "metadata": {
  "kernelspec": {
   "display_name": "Python 3",
   "language": "python",
   "name": "python3"
  },
  "language_info": {
   "codemirror_mode": {
    "name": "ipython",
    "version": 3
   },
   "file_extension": ".py",
   "mimetype": "text/x-python",
   "name": "python",
   "nbconvert_exporter": "python",
   "pygments_lexer": "ipython3",
   "version": "3.11.3"
  },
  "orig_nbformat": 4
 },
 "nbformat": 4,
 "nbformat_minor": 2
}
