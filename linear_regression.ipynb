{
 "cells": [
  {
   "cell_type": "code",
   "execution_count": 9,
   "metadata": {},
   "outputs": [
    {
     "name": "stdout",
     "output_type": "stream",
     "text": [
      "R^2 score:  0.7470507602966174\n",
      "RMSE:  3078310.67965753\n"
     ]
    }
   ],
   "source": [
    "from sklearn.preprocessing import StandardScaler\n",
    "import pandas as pd\n",
    "from sklearn.model_selection import train_test_split\n",
    "from sklearn.linear_model import LinearRegression\n",
    "from sklearn.metrics import r2_score, mean_squared_error\n",
    "import pickle\n",
    "import os\n",
    "\n",
    "cities = ['2800', '2820', '2830', '2840', '2850', '2900', '2920', '2930', '2942', '2950','3000','3460']\n",
    "energy_classes = ['A2020', 'A2015', 'A2010', 'B', 'C', 'D', 'E', 'F', 'G']\n",
    "types = ['Villa','Ejerlejlighed','Rækkehus','Villalejlighed']\n",
    "\n",
    "dataframes = []\n",
    "\n",
    "for city in cities:\n",
    "    filename = f'./data/house_data/house_data_{city}.csv'\n",
    "    df = pd.read_csv(filename)\n",
    "    df['City'] = city  # Add a 'City' column with the zip code\n",
    "    dataframes.append(df)\n",
    "\n",
    "combined_df = pd.concat(dataframes, ignore_index=True)  \n",
    "\n",
    "# Fjern rækker med boligtypen \"Landejendom\"\n",
    "combined_df = combined_df[combined_df['Type'] != 'Landejendom']\n",
    "\n",
    "# Fjern rækker med NaN-værdier\n",
    "combined_df = combined_df.dropna()\n",
    "\n",
    "combined_df = pd.get_dummies(combined_df, columns=['City', 'Energy class', 'Type'])\n",
    "\n",
    "scaler = StandardScaler()\n",
    "combined_df['Size'] = scaler.fit_transform(combined_df[['Size']])\n",
    "\n",
    "# Opdel data i features (X) og target (y)\n",
    "X = combined_df.drop(['Price','Squaremeter price', 'Address','Url'], axis=1)\n",
    "y = combined_df['Price']\n",
    "\n",
    "# Opdel data i trænings- og testsæt\n",
    "X_train, X_test, y_train, y_test = train_test_split(X, y, test_size=0.2, random_state=42)\n",
    "\n",
    "# Lav og træn modellen\n",
    "linear_model = LinearRegression()\n",
    "linear_model.fit(X_train, y_train)\n",
    "\n",
    "# Test modellen\n",
    "predictions = linear_model.predict(X_test)\n",
    "print('R^2 score: ', r2_score(y_test, predictions))\n",
    "print('RMSE: ', mean_squared_error(y_test, predictions, squared=False))\n",
    "\n",
    "# Angiv filstien til den eksisterende model\n",
    "model_filename = 'linear_model.pkl'\n",
    "\n",
    "# Tjek om filen eksisterer, og slet den hvis den gør det\n",
    "if os.path.exists(model_filename):\n",
    "    os.remove(model_filename)\n",
    "\n",
    "# Gemme modellen\n",
    "with open('linear_model.pkl', 'wb') as file:\n",
    "    pickle.dump(linear_model, file)\n",
    "\n",
    "\n"
   ]
  }
 ],
 "metadata": {
  "kernelspec": {
   "display_name": "Python 3",
   "language": "python",
   "name": "python3"
  },
  "language_info": {
   "codemirror_mode": {
    "name": "ipython",
    "version": 3
   },
   "file_extension": ".py",
   "mimetype": "text/x-python",
   "name": "python",
   "nbconvert_exporter": "python",
   "pygments_lexer": "ipython3",
   "version": "3.11.2"
  },
  "orig_nbformat": 4
 },
 "nbformat": 4,
 "nbformat_minor": 2
}
