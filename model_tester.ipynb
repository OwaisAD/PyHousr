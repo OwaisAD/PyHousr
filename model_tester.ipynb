{
 "cells": [
  {
   "cell_type": "code",
   "execution_count": 18,
   "metadata": {},
   "outputs": [
    {
     "ename": "NameError",
     "evalue": "name 'combined_df' is not defined",
     "output_type": "error",
     "traceback": [
      "\u001b[0;31m---------------------------------------------------------------------------\u001b[0m",
      "\u001b[0;31mNameError\u001b[0m                                 Traceback (most recent call last)",
      "Cell \u001b[0;32mIn[18], line 28\u001b[0m\n\u001b[1;32m     26\u001b[0m \u001b[39m# Fit StandardScaler on 'Size' column of the combined data\u001b[39;00m\n\u001b[1;32m     27\u001b[0m scaler \u001b[39m=\u001b[39m StandardScaler()\n\u001b[0;32m---> 28\u001b[0m scaler\u001b[39m.\u001b[39mfit(combined_df[[\u001b[39m'\u001b[39m\u001b[39mSize\u001b[39m\u001b[39m'\u001b[39m]])\n\u001b[1;32m     30\u001b[0m \u001b[39m# Skalér 'Size' kolonnen med den tidligere fitte StandardScaler\u001b[39;00m\n\u001b[1;32m     31\u001b[0m new_df[\u001b[39m'\u001b[39m\u001b[39mSize\u001b[39m\u001b[39m'\u001b[39m] \u001b[39m=\u001b[39m scaler\u001b[39m.\u001b[39mtransform(new_df[[\u001b[39m'\u001b[39m\u001b[39mSize\u001b[39m\u001b[39m'\u001b[39m]])\n",
      "\u001b[0;31mNameError\u001b[0m: name 'combined_df' is not defined"
     ]
    }
   ],
   "source": [
    "import pandas as pd\n",
    "from sklearn.preprocessing import StandardScaler\n",
    "\n",
    "new_data = {\n",
    "    'X': 55.757992,\n",
    "    'Y': 12.581189,\n",
    "    'Type': 'Villa',\n",
    "    'Size': 200,  \n",
    "    'Energy class': 'C',  \n",
    "    'City': '2800'  \n",
    "}\n",
    "\n",
    "# Opret en tom DataFrame til dine nye data\n",
    "new_df = pd.DataFrame()\n",
    "\n",
    "# Tilføj kolonnerne 'X', 'Y', 'Size' til DataFrame og tildel værdierne fra new_data\n",
    "new_df['X'] = [new_data['X']]\n",
    "new_df['Y'] = [new_data['Y']]\n",
    "new_df['Size'] = [new_data['Size']]\n",
    "\n",
    "# Lav one-hot encoding for 'Type', 'Energy class' og 'City' kolonnerne\n",
    "for column in ['Type', 'Energy class', 'City']:\n",
    "    # Opret en ny kolonne med hver unik værdi og tildel 0 som standardværdi\n",
    "    new_df = pd.concat([new_df, pd.get_dummies(new_data[column]).set_index(new_df.index)], axis=1)\n",
    "\n",
    "# Fit StandardScaler on 'Size' column of the combined data\n",
    "scaler = StandardScaler()\n",
    "scaler.fit(combined_df[['Size']])\n",
    "\n",
    "# Skalér 'Size' kolonnen med den tidligere fitte StandardScaler\n",
    "new_df['Size'] = scaler.transform(new_df[['Size']])\n",
    "\n",
    "# Vis DataFrame med omskrevne data\n",
    "print(new_df)\n"
   ]
  }
 ],
 "metadata": {
  "kernelspec": {
   "display_name": "Python 3",
   "language": "python",
   "name": "python3"
  },
  "language_info": {
   "codemirror_mode": {
    "name": "ipython",
    "version": 3
   },
   "file_extension": ".py",
   "mimetype": "text/x-python",
   "name": "python",
   "nbconvert_exporter": "python",
   "pygments_lexer": "ipython3",
   "version": "3.11.2"
  },
  "orig_nbformat": 4
 },
 "nbformat": 4,
 "nbformat_minor": 2
}
