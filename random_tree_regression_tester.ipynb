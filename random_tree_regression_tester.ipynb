{
 "cells": [
  {
   "cell_type": "code",
   "execution_count": 5,
   "metadata": {},
   "outputs": [
    {
     "name": "stdout",
     "output_type": "stream",
     "text": [
      "[2225970.]\n"
     ]
    }
   ],
   "source": [
    "import joblib\n",
    "import pandas as pd\n",
    "from sklearn.preprocessing import LabelEncoder\n",
    "\n",
    "# Load the saved model\n",
    "model = joblib.load('RFG_Model')\n",
    "\n",
    "# Load the data\n",
    "cities = ['2800', '2820', '2830', '2840', '2850', '2900', '2920', '2930', '2942', '2950', '3000', '3460']\n",
    "dataframes = []\n",
    "\n",
    "for city in cities:\n",
    "    filename = f'./data/house_data/house_data_{city}.csv'\n",
    "    df = pd.read_csv(filename)\n",
    "    df[\"City\"] = int(city)\n",
    "    dataframes.append(df)\n",
    "\n",
    "data = pd.concat(dataframes, ignore_index=True)\n",
    "data.dropna(inplace=True)\n",
    "\n",
    "# Select relevant features\n",
    "features = ['X', 'Y', 'Size', 'Type', 'Energy class', 'City']\n",
    "\n",
    "# Prepare new data for prediction\n",
    "new_house_data = pd.DataFrame([[56.034845, 12.591295, 68, 'Ejerlejlighed', 'D', 3000]], columns=features)\n",
    "\n",
    "# Define a dictionary to store the label encoders\n",
    "label_encoders = {}\n",
    "\n",
    "# Apply the necessary preprocessing steps to the new data\n",
    "for feature in ['Type', 'Energy class', 'City']:\n",
    "    # Create a new LabelEncoder for each categorical feature\n",
    "    label_encoders[feature] = LabelEncoder()\n",
    "\n",
    "    # Fit the label encoder on the training data\n",
    "    label_encoders[feature].fit(data[feature])\n",
    "\n",
    "    # Transform the feature values in the new data\n",
    "    new_house_data[feature] = label_encoders[feature].transform(new_house_data[feature])\n",
    "\n",
    "# Save the label encoders for future use\n",
    "joblib.dump(label_encoders, 'label_encoders.pkl')\n",
    "\n",
    "# Make predictions using the loaded model\n",
    "predictions = model.predict(new_house_data)\n",
    "\n",
    "# Print the predictions\n",
    "print(predictions)\n"
   ]
  }
 ],
 "metadata": {
  "kernelspec": {
   "display_name": "Python 3",
   "language": "python",
   "name": "python3"
  },
  "language_info": {
   "codemirror_mode": {
    "name": "ipython",
    "version": 3
   },
   "file_extension": ".py",
   "mimetype": "text/x-python",
   "name": "python",
   "nbconvert_exporter": "python",
   "pygments_lexer": "ipython3",
   "version": "3.11.2"
  },
  "orig_nbformat": 4
 },
 "nbformat": 4,
 "nbformat_minor": 2
}
